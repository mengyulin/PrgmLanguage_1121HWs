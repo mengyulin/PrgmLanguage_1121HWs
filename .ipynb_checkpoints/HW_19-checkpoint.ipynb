{
 "cells": [
  {
   "cell_type": "markdown",
   "id": "a930632d-a475-4d40-a196-bdfd41b81b27",
   "metadata": {},
   "source": [
    "# 作業 19\n",
    "\n",
    "## 題目說明\n",
    "依下列題意進行作答，使用函式計算主程式內一組數據的平均值與標準偏差。\n",
    "\n",
    "## 函式說明\n",
    "### 函式設計\n",
    "撰寫一函式 `stat(x)`，其中參數 x 為存有一組數據的 tuple。\n",
    "\n",
    "首先計算 tuple 的數據個數。若數量小於 2 則輸出 `At least 2 values must be entered.`，並設定平均值與標準偏差均為 0。\n",
    "\n",
    "若數量大於或等於 2，則使用 for 迴圈計算出該組資料之平均值與標準偏差。\n",
    "\n",
    "函式傳回值為平均值與標準偏差。\n",
    "\n",
    "### 計算公式\n",
    "\n",
    "設 $N$ 為資料數量，$x_i$ 為第 $i$ 筆數據，則平均值 $\\bar{x}$ 與標準偏差 $s$ 分別為\n",
    "\n",
    "$$\n",
    "\\bar{x} = \\frac{1}{N}\\sum_{i=1}^N x_i,\\quad s = \\sqrt{\\frac{N\\sum_{i-1}^N x_i^2 - (\\sum_{i=1}^N x_i)^2}{N(N-1)}}\n",
    "$$\n",
    "\n",
    "## 主程式說明\n",
    "1. 設定數據 tuple 為 `x = (1,2,3,4,5,6,7,8,9,10)`\n",
    "2. 呼叫函式: 將函式傳回之平均值與標準偏差依要求之格式輸出。\n",
    "\n",
    "## 輸入輸出\n",
    "### 輸入說明\n",
    "無 (數據之 tuple 寫在主程式中)\n",
    "\n",
    "### 輸出說明\n",
    "若數據數量小於 2，輸出 `At least 2 values must be entered.`\n",
    "\n",
    "若數據數量大於或等於 2，則輸出平均值與標準偏差。小數位均為三位。\n",
    "\n",
    "### 範例輸入\n",
    "無\n",
    "\n",
    "### 範例輸出\n",
    "    The mean of this data set is: 5.500\n",
    "    The standard deviation is: 3.028"
   ]
  }
 ],
 "metadata": {
  "kernelspec": {
   "display_name": "Python 3 (ipykernel)",
   "language": "python",
   "name": "python3"
  },
  "language_info": {
   "codemirror_mode": {
    "name": "ipython",
    "version": 3
   },
   "file_extension": ".py",
   "mimetype": "text/x-python",
   "name": "python",
   "nbconvert_exporter": "python",
   "pygments_lexer": "ipython3",
   "version": "3.11.0"
  }
 },
 "nbformat": 4,
 "nbformat_minor": 5
}
