{
 "cells": [
  {
   "cell_type": "markdown",
   "id": "f69ae2cc",
   "metadata": {},
   "source": [
    "# 作業 14\n",
    "\n",
    "## 題目說明\n",
    "\n",
    "請使用迴圈敘述撰寫一程式，讓使用者輸入兩個正整數 a、b (a < b)，利用 while 迴圈計算從 a 開始連加到 b 的總和。 例如:輸入 a = 1、b = 100，則輸出結果為 5050 (1 + 2 + ... + 100 = 5050)。\n",
    "while 迴圈的條件式，可使用 \"計數器\" 的設置以判斷連加是否需結束。\n",
    "\n",
    "## 輸入輸出\n",
    "\n",
    "### 輸入說明\n",
    "兩個正整數 (a、b，且 a < b) \n",
    "\n",
    "### 輸出說明\n",
    "計算從 a 開始連加到 b 的總和 \n",
    "\n",
    "### 範例輸入\n",
    "    66 \n",
    "    666\n",
    "\n",
    "### 範例輸出\n",
    "    219966\n"
   ]
  },
  {
   "cell_type": "code",
   "execution_count": null,
   "id": "0f80fa7e",
   "metadata": {},
   "outputs": [],
   "source": []
  }
 ],
 "metadata": {
  "kernelspec": {
   "display_name": "Python 3 (ipykernel)",
   "language": "python",
   "name": "python3"
  },
  "language_info": {
   "codemirror_mode": {
    "name": "ipython",
    "version": 3
   },
   "file_extension": ".py",
   "mimetype": "text/x-python",
   "name": "python",
   "nbconvert_exporter": "python",
   "pygments_lexer": "ipython3",
   "version": "3.8.17"
  }
 },
 "nbformat": 4,
 "nbformat_minor": 5
}
