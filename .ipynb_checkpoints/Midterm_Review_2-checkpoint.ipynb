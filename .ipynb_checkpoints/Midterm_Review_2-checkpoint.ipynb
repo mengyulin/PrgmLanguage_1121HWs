{
 "cells": [
  {
   "cell_type": "markdown",
   "id": "8b9b5695",
   "metadata": {
    "slideshow": {
     "slide_type": "skip"
    }
   },
   "source": [
    "[![Open In Colab](https://colab.research.google.com/assets/colab-badge.svg)](https://colab.research.google.com/github/mengyulin/PrgmLanguage_1121HWs/blob/main/Midterm_Review_2.ipynb)"
   ]
  },
  {
   "cell_type": "markdown",
   "id": "1d5c6170",
   "metadata": {
    "slideshow": {
     "slide_type": "slide"
    }
   },
   "source": [
    "# 問題 2: 勝利的球隊 (Winning Team)\n",
    "\n",
    "## 問題敘述\n",
    "\n",
    "在籃球比賽中有三種得分狀況：三分球、兩分球和一分罰球。假設您剛才看了蘋果隊 (Apples) 和香蕉隊 (Bananas) 的籃球比賽，並記錄了兩支球隊所投入的三分球、兩分球和一分球的進球數，請指出是蘋果隊贏了，還是香蕉隊贏了，亦或是兩隊平手。"
   ]
  },
  {
   "cell_type": "markdown",
   "id": "2ae444ef",
   "metadata": {
    "slideshow": {
     "slide_type": "subslide"
    }
   },
   "source": [
    "### 輸入\n",
    "\n",
    "有 6 行輸入的內容 。前 3 行是蘋果隊的，後 3 行是香蕉隊的:\n",
    "\n",
    "* 第 1 行是蘋果隊的 3 分球進球數。\n",
    "* 第 2 行是蘋果隊的 2 分球進球數。\n",
    "* 第 3 行是蘋果隊的 1 分罰球進球數。\n",
    "* 第 4 行是香蕉隊的 3 分球進球數。\n",
    "* 第 5 行是香蕉隊的 2 分球進球數。\n",
    "* 第 6 行是香蕉隊的 1 分罰球進球數。 \n",
    "\n",
    "輸入的整數值範圍是 0 到 100 之間的整數。"
   ]
  },
  {
   "cell_type": "markdown",
   "id": "101e9e47",
   "metadata": {
    "slideshow": {
     "slide_type": "subslide"
    }
   },
   "source": [
    "### 輸出\n",
    "\n",
    "輸出結果為單一個字元。\n",
    "\n",
    "* 如果蘋果隊得分大於香蕉隊得分，則輸出 A (A 代 表 Apples 隊勝 )。 \n",
    "* 如果香蕉隊得分大於蘋果隊得分，則輸出 B (B 代表 Bananas 隊勝)。 \n",
    "* 如果蘋果隊得分等於香蕉隊得分，則輸出 T (T 代表 Tie，平手)。"
   ]
  },
  {
   "cell_type": "markdown",
   "id": "1ea7efbb",
   "metadata": {
    "slideshow": {
     "slide_type": "slide"
    }
   },
   "source": [
    "# 條件執行\n",
    "\n",
    "運用 input 和 int 從輸入中讀取 6 個整數值，並使用變數來存放這此值。處理時可以把三分球的進球數乘以 3，並把兩分球的進球數乘以 2。最後使用 print 來輸出 A、B 或 T。"
   ]
  },
  {
   "cell_type": "markdown",
   "id": "abfec196",
   "metadata": {
    "slideshow": {
     "slide_type": "subslide"
    }
   },
   "source": [
    "首先，請思考下列這個測試案例：\n",
    "\n",
    "    5\n",
    "    1\n",
    "    3\n",
    "    1\n",
    "    1\n",
    "    1\n",
    "\n",
    "蘋果隊的得分是 `5*3+1*2+3 = 20` 分，而香蕉隊的得分是 `1*3+1*2+1 = 6` 分。蘋果隊獲勝，所以輸出是：\n",
    " \n",
    "    A"
   ]
  },
  {
   "cell_type": "markdown",
   "id": "0e539f6f",
   "metadata": {
    "slideshow": {
     "slide_type": "subslide"
    }
   },
   "source": [
    "* 我們會使用 Python 的 if 陳述句語法來處理道樣的決策。\n",
    "* 條件 (condition) 是指表示式 (expression) 所產生的 True 或 False 值。\n",
    "* if 陳述句會使用這個條件結果來決定接下來要進行什麼動作。"
   ]
  },
  {
   "cell_type": "markdown",
   "id": "ce030926",
   "metadata": {
    "slideshow": {
     "slide_type": "slide"
    }
   },
   "source": [
    "## 布林型別\n",
    "\n",
    "把表示式放入Python 的 type 函式中執行，就能得到該表示式的型別是什麼："
   ]
  },
  {
   "cell_type": "code",
   "execution_count": null,
   "id": "7ff19bd8",
   "metadata": {},
   "outputs": [],
   "source": []
  },
  {
   "cell_type": "code",
   "execution_count": null,
   "id": "6501401e",
   "metadata": {},
   "outputs": [],
   "source": []
  },
  {
   "cell_type": "code",
   "execution_count": null,
   "id": "a3d0e014",
   "metadata": {},
   "outputs": [],
   "source": []
  },
  {
   "cell_type": "code",
   "execution_count": null,
   "id": "496b2d5f",
   "metadata": {},
   "outputs": [],
   "source": []
  },
  {
   "cell_type": "markdown",
   "id": "66e485cc",
   "metadata": {
    "slideshow": {
     "slide_type": "subslide"
    }
   },
   "source": [
    "這裡還有個布林型別（bool）還沒介紹，此型別不像整數、字串和浮點數這類型别的可能值有非常多，布林型別的值只有兩個，那就是 True 和False。"
   ]
  },
  {
   "cell_type": "code",
   "execution_count": null,
   "id": "59269a00",
   "metadata": {},
   "outputs": [],
   "source": []
  },
  {
   "cell_type": "code",
   "execution_count": null,
   "id": "331fb0fe",
   "metadata": {},
   "outputs": [],
   "source": []
  },
  {
   "cell_type": "code",
   "execution_count": null,
   "id": "98951d1f",
   "metadata": {},
   "outputs": [],
   "source": []
  },
  {
   "cell_type": "code",
   "execution_count": null,
   "id": "1b75eec8",
   "metadata": {},
   "outputs": [],
   "source": []
  },
  {
   "cell_type": "markdown",
   "id": "a5bea679",
   "metadata": {
    "slideshow": {
     "slide_type": "subslide"
    }
   },
   "source": [
    "對於數宇，我們使用了 + 和 - 這種數學運算子來把值組合成更複雜的表示式。但布林值則需要使用一組新的運算子來處理。"
   ]
  },
  {
   "cell_type": "markdown",
   "id": "2844be58",
   "metadata": {
    "slideshow": {
     "slide_type": "slide"
    }
   },
   "source": [
    "## 關係運算子\n",
    "\n",
    "* 5 是否大於 2 呢？4 是否小於 1 呢？使用 Python 的關係運算子可以進行這檏的比較處理。\n",
    "* 關係運算子所產生的結果為 True 或 False，這可以用來編寫布林表示式。\n",
    "* 一連算子會比較兩個運算元，如果第 1 個運算元大於第 2 運算元則返回 True，否則返回 False:"
   ]
  },
  {
   "cell_type": "code",
   "execution_count": null,
   "id": "becb2fb2",
   "metadata": {
    "slideshow": {
     "slide_type": "subslide"
    }
   },
   "outputs": [],
   "source": []
  },
  {
   "cell_type": "code",
   "execution_count": null,
   "id": "6b3998b5",
   "metadata": {},
   "outputs": [],
   "source": []
  },
  {
   "cell_type": "code",
   "execution_count": null,
   "id": "f984f9a6",
   "metadata": {},
   "outputs": [],
   "source": []
  },
  {
   "cell_type": "code",
   "execution_count": null,
   "id": "63c64ecc",
   "metadata": {},
   "outputs": [],
   "source": []
  },
  {
   "cell_type": "code",
   "execution_count": null,
   "id": "3dda1aa0",
   "metadata": {},
   "outputs": [],
   "source": []
  },
  {
   "cell_type": "code",
   "execution_count": null,
   "id": "21714ddf",
   "metadata": {
    "slideshow": {
     "slide_type": "subslide"
    }
   },
   "outputs": [],
   "source": []
  },
  {
   "cell_type": "code",
   "execution_count": null,
   "id": "9ad1279b",
   "metadata": {},
   "outputs": [],
   "source": []
  },
  {
   "cell_type": "code",
   "execution_count": null,
   "id": "f4063410",
   "metadata": {},
   "outputs": [],
   "source": []
  },
  {
   "cell_type": "code",
   "execution_count": null,
   "id": "ab0bd3cf",
   "metadata": {
    "slideshow": {
     "slide_type": "subslide"
    }
   },
   "outputs": [],
   "source": [
    "import math\n",
    "a = math.sin(math.pi)\n",
    "a == 0"
   ]
  },
  {
   "cell_type": "code",
   "execution_count": null,
   "id": "3a63d6ca",
   "metadata": {},
   "outputs": [],
   "source": [
    "a"
   ]
  },
  {
   "cell_type": "markdown",
   "id": "3d0613be",
   "metadata": {
    "slideshow": {
     "slide_type": "subslide"
    }
   },
   "source": [
    "浮點數的相等（或接近）可以用 `math.isclose()` 函式。參考連結：[math.isclose](https://docs.python.org/3/library/math.html?highlight=math#math.isclose)。"
   ]
  },
  {
   "cell_type": "code",
   "execution_count": null,
   "id": "f8499853",
   "metadata": {},
   "outputs": [],
   "source": [
    "0.1 + 0.2"
   ]
  },
  {
   "cell_type": "code",
   "execution_count": null,
   "id": "4da3dcf3",
   "metadata": {},
   "outputs": [],
   "source": [
    "0.1 + 0.2 == 0.3"
   ]
  },
  {
   "cell_type": "code",
   "execution_count": null,
   "id": "acfbeed8",
   "metadata": {},
   "outputs": [],
   "source": [
    "math.isclose(0.1 + 0.2, 0.3)"
   ]
  },
  {
   "cell_type": "markdown",
   "id": "202c99fd",
   "metadata": {
    "slideshow": {
     "slide_type": "subslide"
    }
   },
   "source": [
    "但判斷浮點數是否等於零，並不適合用 `math.isclose()`，而應該使用系統的內建精度："
   ]
  },
  {
   "cell_type": "code",
   "execution_count": null,
   "id": "f25249fb",
   "metadata": {},
   "outputs": [],
   "source": [
    "a = math.sin(math.pi)\n",
    "print(a)\n",
    "print(math.isclose(a, 0))"
   ]
  },
  {
   "cell_type": "code",
   "execution_count": null,
   "id": "7bc90138",
   "metadata": {},
   "outputs": [],
   "source": [
    "import sys\n",
    "sys.float_info.epsilon"
   ]
  },
  {
   "cell_type": "code",
   "execution_count": null,
   "id": "9a6bd839",
   "metadata": {},
   "outputs": [],
   "source": [
    "abs(a) <= sys.float_info.epsilon"
   ]
  },
  {
   "cell_type": "markdown",
   "id": "a46dc174",
   "metadata": {
    "slideshow": {
     "slide_type": "slide"
    }
   },
   "source": [
    "# 問題的解答\n",
    "\n",
    "1. 讀取輸入的資料。這裡需要 6 個 input 的呼叫，因為有兩支球隊，每支球隊有三段資訊。另外還需要把輸入值都轉換為整數。\n",
    "2. 確定蘋果隊和香蕉隊得分的總數。把球隊的三分球、兩分球和一分球的得分相加。\n",
    "3. 讓程式輸出結果。如果蘋果隊羸了，就輸出 A；如果香蕉隊獲勝，則輸出 B；否則就是平手，因此輸出 T。"
   ]
  },
  {
   "cell_type": "code",
   "execution_count": null,
   "id": "4a647016",
   "metadata": {
    "slideshow": {
     "slide_type": "subslide"
    }
   },
   "outputs": [],
   "source": [
    "# ... 讀取輸入的資料 ...\n",
    "\n",
    "\n",
    "# ... 確定蘋果隊和香蕉隊得分的總數 ...\n",
    "\n",
    "\n",
    "# ... 判斷獲勝球隊並輸出結果 ...\n",
    "\n"
   ]
  }
 ],
 "metadata": {
  "celltoolbar": "Slideshow",
  "kernelspec": {
   "display_name": "Python 3 (ipykernel)",
   "language": "python",
   "name": "python3"
  },
  "language_info": {
   "codemirror_mode": {
    "name": "ipython",
    "version": 3
   },
   "file_extension": ".py",
   "mimetype": "text/x-python",
   "name": "python",
   "nbconvert_exporter": "python",
   "pygments_lexer": "ipython3",
   "version": "3.8.17"
  }
 },
 "nbformat": 4,
 "nbformat_minor": 5
}
