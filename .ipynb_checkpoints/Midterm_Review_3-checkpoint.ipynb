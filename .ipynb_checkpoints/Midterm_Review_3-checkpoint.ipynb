{
 "cells": [
  {
   "cell_type": "markdown",
   "id": "267b2d52",
   "metadata": {
    "slideshow": {
     "slide_type": "skip"
    }
   },
   "source": [
    "[![Open In Colab](https://colab.research.google.com/assets/colab-badge.svg)](https://github.com/mengyulin/PrgmLanguage_1121HWs/blob/main/Midterm_Review_3.ipynb)"
   ]
  },
  {
   "cell_type": "markdown",
   "id": "617f7f0c",
   "metadata": {
    "slideshow": {
     "slide_type": "slide"
    }
   },
   "source": [
    "# 問題 3：使用函式庫 (library)"
   ]
  },
  {
   "cell_type": "markdown",
   "id": "9dccd2fb",
   "metadata": {},
   "source": [
    "##  學習重點\n",
    "\n",
    "* 在程式裡匯入函式庫\n",
    "* 使用 math 函式庫執行數學運算\n",
    "* 使用 random 函式庫隨機取樣或產生亂數\n",
    "* 使用 time 函式庫計算程式執行時間"
   ]
  },
  {
   "cell_type": "markdown",
   "id": "22b88ae8",
   "metadata": {
    "slideshow": {
     "slide_type": "subslide"
    }
   },
   "source": [
    "在撰寫較複雜的程式時，若想使用自己寫過或別人提供的函式和類別，可以把這些函式和類別的程式碼複製到目前的程式中。不過一旦要引用的函式和類別很多，這樣做鐵定很不方便。\n",
    "\n",
    "因此我們建議採用另一種方式，在程式的開頭使用 `import` 敘述，將其他檔案中的函式和類別匯入目前的程式檔裡，這樣既方便又不容易出錯。"
   ]
  },
  {
   "cell_type": "markdown",
   "id": "d2a23dda",
   "metadata": {
    "slideshow": {
     "slide_type": "subslide"
    }
   },
   "source": [
    "## 內建函式、標準函式庫、第三方函式庫\n",
    "\n",
    "* 內建函式：內建之常用函式，例如 `print()`, `type()`, `len()` 等，不需另外安裝、不需先 import 即可使用。\n",
    "* 標準函式庫：已經安裝好於 Python 中的模組或套件，例如本章介紹的函式庫，不需要另外安裝，但需要先 import 才能使用。\n",
    "* 第三方套件：由第三方 (非官方) 所提供的套件，例如 `numpy`, 不會預先安裝於 Python 系統，使用時須先 import。\n",
    "\n",
    "Python 標準函式庫之官方文件，請見此連結 (可選中文版本，注意點選所使用之 Python 版本)：\n",
    "https://docs.python.org/3.10/library/index.html"
   ]
  },
  {
   "cell_type": "markdown",
   "id": "6c27af58",
   "metadata": {
    "slideshow": {
     "slide_type": "slide"
    }
   },
   "source": [
    "## 使用 math 函式庫進行數學運算\n",
    "\n",
    "Python 內建的 math 數學函式庫是一個非常實用的函式庫。請先在 IPython 主控台輸入下列指令，主控台會顯示數學函式庫裡所有可用的函式以及相關說明：\n",
    "\n",
    "    import math\n",
    "    help(math)\n",
    "    \n",
    "Python 的數學函式庫包含了下面這幾類函式：數論、代數、指數、對數、三角函數、角度弧度轉換、雙曲線函數。此函式庫也包含了兩個數學常數：pi 和 e。\n",
    "\n",
    "注意：以上數學函式與數學常數並未包含在 Python 中，須引入 `math` 函式庫後方能使用。"
   ]
  },
  {
   "cell_type": "code",
   "execution_count": null,
   "id": "0d735481",
   "metadata": {
    "slideshow": {
     "slide_type": "subslide"
    }
   },
   "outputs": [],
   "source": [
    "import math\n",
    "help(math)"
   ]
  },
  {
   "cell_type": "markdown",
   "id": "594fa4a4",
   "metadata": {
    "slideshow": {
     "slide_type": "subslide"
    }
   },
   "source": [
    "### 使用函式庫的方法\n",
    "\n",
    "例如想使用 `math` 函式庫內 `sin` 函數與圓周率 `pi`，需以 `math.sin()`, `math.pi` 的方式方可。"
   ]
  },
  {
   "cell_type": "code",
   "execution_count": null,
   "id": "c20120c9",
   "metadata": {},
   "outputs": [],
   "source": [
    "import math\n",
    "\n",
    "print(math.pi)\n",
    "a = math.sin(math.pi)\n",
    "print(a)              # floating point number"
   ]
  },
  {
   "cell_type": "markdown",
   "id": "7f9eb3c4",
   "metadata": {
    "slideshow": {
     "slide_type": "subslide"
    }
   },
   "source": [
    "以下我們以一個簡單的例子，實際運用 math 函式庫提供的數學函式來解決問題。我們想要模擬棒球比賽傳接球的動作，需要判斷球員傳出的球是否可以被隊友接到，由於接球的隊友會移動，所以在判定上可以有一些容錯範圍。"
   ]
  },
  {
   "cell_type": "markdown",
   "id": "53471adb",
   "metadata": {},
   "source": [
    "在程式中會先詢問使用者，傳球和接球者之間的距離為何，以及傳球的速度及仰角為何。接著程式會依據輸入的資訊，先計算出球飛行的距離，然後判斷否等於（或接近）接球的距離，最後判斷是否可以接到球。"
   ]
  },
  {
   "cell_type": "markdown",
   "id": "796d4600",
   "metadata": {
    "slideshow": {
     "slide_type": "subslide"
    }
   },
   "source": [
    "藉由下列公式，我們可以從傳球者將球投出的仰角以及速度，計算出球的飛行距離：\n",
    "\n",
    "\\begin{equation}\n",
    "\\mathrm{reach} = 2 \\times \\mathrm{speed}^2 \\times \\sin(\\mathrm{angle}) \\times \\cos(\\mathrm{angle}) / 9.81\n",
    "\\end{equation}\n",
    "\n",
    "![圖 34.3](./fig_34_3.png)"
   ]
  },
  {
   "cell_type": "markdown",
   "id": "6e9bce13",
   "metadata": {
    "slideshow": {
     "slide_type": "subslide"
    }
   },
   "source": [
    "### 程式設計與流程\n",
    "\n",
    "* 依據公式，我們必須要計算出 sin 和 cos 的值，所以要先匯入 math 函式庫。\n",
    "* 注意仰角的計算有兩種單位，一個是角度 (degree)，另一個是弧度 (radian)，因為 math 函式庫裡預設的單位是弧度，所以必須先把計算仰角的單位從角度轉換成弧度，才能計算出正確的結果。\n",
    "* 使用數學函式庫計算特定仰角的傳球距離。計算出球飛行的距離後，最後就可以判斷出：球可被接到、球飛行的距離太短或是球飛行的距離太長。接球者可前後移動接球，所以有 2 公尺的容錯範圍，也就是 reach 在 distance 的 ±2 公尺內都可以接到球。"
   ]
  },
  {
   "cell_type": "markdown",
   "id": "ed42bd6e",
   "metadata": {
    "slideshow": {
     "slide_type": "subslide"
    }
   },
   "source": [
    "## 傳球距離程式\n",
    "\n",
    "\\begin{equation}\n",
    "\\mathrm{reach} = 2 \\times \\mathrm{speed}^2 \\times \\sin(\\mathrm{angle}) \\times \\cos(\\mathrm{angle}) / 9.81\n",
    "\\end{equation}"
   ]
  },
  {
   "cell_type": "code",
   "execution_count": null,
   "id": "3ce94ef6",
   "metadata": {
    "slideshow": {
     "slide_type": "-"
    }
   },
   "outputs": [],
   "source": [
    "# ... 匯入 math 函式庫 ...\n",
    "\n",
    "\n",
    "# ... 輸入兩人的距離、球之初速與角度等資訊 ...\n",
    "\n",
    "# ... 設定容錯值 為 2 公尺 ...\n",
    "\n",
    "# ... 將角度轉換為弧度 ...\n",
    "\n",
    "# ... 計算球之飛行距離 ...\n",
    "\n",
    "\n",
    "# ... 判斷傳球距離是否在兩人距離加減容錯值之間，並依情況輸出結果 ...\n"
   ]
  },
  {
   "cell_type": "markdown",
   "id": "991030ad",
   "metadata": {
    "slideshow": {
     "slide_type": "slide"
    }
   },
   "source": [
    "## 使用 random 函式庫產生隨機亂數\n",
    "\n",
    "`random` 函式庫中還提供了其他許多實用的函式。只要你的程式需要產生隨機亂數，或是需要隨機元素或樣本，`random` 函式庫都可以派上用場。"
   ]
  },
  {
   "cell_type": "code",
   "execution_count": null,
   "id": "58d2ab14",
   "metadata": {},
   "outputs": [],
   "source": [
    "import random\n",
    "help(random)"
   ]
  },
  {
   "cell_type": "markdown",
   "id": "a7b7d377",
   "metadata": {
    "slideshow": {
     "slide_type": "subslide"
    }
   },
   "source": [
    "### 隨機取出容器內的元素\n",
    "\n",
    "前面我們介紹過 Python 內建的各種容器，容器中有許多元素，若需要從串列、字典等容器中隨機挑選元素，`random` 函式庫就可以派上用場。例如：我們利用 tuple 儲存了會員的姓名清單，我們想要隨機從中挑一名會員，就可以利用 `random.choice` 函式，如以下程式碼：\n",
    "\n",
    "    import random\n",
    "    vip = (\"Ana\", \"Bob\", \"Carl\", \"Doug\", \"Elle\", \"finn\")\n",
    "    print(random.choice(vip))\n",
    "    \n",
    "`random.choice` 函式會隨機從傳入的 vip 串列內挑出一個元素，並將結果顯示在畫面上。你可以試著將最後一行 `print(random.choice(vip))` 多執行幾次，會發現每次執行顯示的會員姓名都不同。"
   ]
  },
  {
   "cell_type": "code",
   "execution_count": null,
   "id": "35f82b1a",
   "metadata": {
    "slideshow": {
     "slide_type": "subslide"
    }
   },
   "outputs": [],
   "source": [
    "import random\n",
    "vip = (\"Ana\", \"Bob\", \"Carl\", \"Doug\", \"Elle\", \"finn\")\n",
    "print(random.choice(vip))\n",
    "print(random.choice(vip))\n",
    "print(random.choice(vip))"
   ]
  },
  {
   "cell_type": "markdown",
   "id": "a9a12bb0",
   "metadata": {
    "slideshow": {
     "slide_type": "subslide"
    }
   },
   "source": [
    "若要取出的元素不只一個，則可以改用 random.sample 函式，此時除了要指定一個容器外，還要傳入一個參數，用來指定要挑出的樣本數量。此程式碼執行時，會從傳入的串列裡挑出 3 個元素，並將結果顯示在畫面上。同樣地，如果執行多次 `print(random.sample(vip, 3))`，每次執行所顯示的會員姓名也都不同。"
   ]
  },
  {
   "cell_type": "code",
   "execution_count": null,
   "id": "bbbc75eb",
   "metadata": {},
   "outputs": [],
   "source": [
    "import random\n",
    "vip = (\"Ana\", \"Bob\", \"Carl\", \"Doug\", \"Elle\", \"finn\")\n",
    "print(random.sample(vip, 3)) \n",
    "#                        └──── 樣本數量"
   ]
  },
  {
   "cell_type": "markdown",
   "id": "ea01a4b3",
   "metadata": {
    "slideshow": {
     "slide_type": "subslide"
    }
   },
   "source": [
    "### 模擬並實作和機率有關的遊戲\n",
    "\n",
    "`random` 函式庫也經常被用在和機率有關的遊戲（如 Ch33 的紙牌遊戲），我們可以用 `random.random()` 函式隨機產生 0 到 1 之間（不包含 1）的浮點數，用來模擬事件發生的機率。"
   ]
  },
  {
   "cell_type": "markdown",
   "id": "00e3d8e0",
   "metadata": {},
   "source": [
    "**TIP** | `random.random()` 的第一個 random 是函式庫的名稱，第二個 random 是函式的名稱。"
   ]
  },
  {
   "cell_type": "markdown",
   "id": "69590f2e",
   "metadata": {
    "slideshow": {
     "slide_type": "subslide"
    }
   },
   "source": [
    "### 「剪刀—石頭—布」程式\n",
    "\n",
    "程式會先詢問使用者要出剪刀、石頭還是布，在取得使用者的選擇後，程式會使用 `random.random()` 隨機產生一個浮點數，然後依據數字落在 0 ~ 1/3、1/3 ~ 2/3、2/3 ~ 1 等不同區間，判定讓程式出石頭、布還是剪刀，理論上程式出剪刀、石頭或是布的機率都會是 1/3。"
   ]
  },
  {
   "cell_type": "code",
   "execution_count": null,
   "id": "191a76ef",
   "metadata": {
    "slideshow": {
     "slide_type": "subslide"
    }
   },
   "outputs": [],
   "source": [
    "import random #─── 匯入 random 函式庫\n",
    "choice = input(\"Choose rock, paper, or scissors: \")\n",
    "r = random.random() #─── 隨機挑出 0 到 1 之間的浮點數\n",
    "if r < 1/3: #─── 數字在 0~1/3 之間出石頭\n",
    "    print(\"Computer chose rock.\")\n",
    "    if choice == \"paper\":\n",
    "        print(\"You win!\")\n",
    "    elif choice == \"scissors\":\n",
    "        print(\"You lose.\")\n",
    "    else:\n",
    "        print(\"Tie.\")\n",
    "elif 1/3 <= r < 2/3: #─── 數字在 1/3~2/3 之間出布\n",
    "    print(\"Computer chose paper.\")\n",
    "    if choice == \"scissors\":\n",
    "        print(\"You win!\")\n",
    "    elif choice == \"rock\":\n",
    "        print(\"You lose.\")\n",
    "    else:\n",
    "        print(\"Tie.\")\n",
    "else: #─── 數字在 2/3~1 之間出剪刀\n",
    "    print(\"Computer chose scissors.\")\n",
    "    if choice == \"rock\":\n",
    "        print(\"You win!\")\n",
    "    elif choice == \"paper\":\n",
    "        print(\"You lose.\")\n",
    "    else:\n",
    "        print(\"Tie.\")"
   ]
  },
  {
   "cell_type": "markdown",
   "id": "ca22b228",
   "metadata": {
    "slideshow": {
     "slide_type": "subslide"
    }
   },
   "source": [
    "### 虛擬亂數與隨機種子\n",
    "\n",
    "在撰寫程式時，若發現執行結果與預期不符時，需要回頭測試以便了解問題為何。但是若程式中使用了 random 隨機函式庫，則每次執行產生的數字都不相同，可能導致程式執行結果有時正確、有時異常，徒增我們除錯的困難度。"
   ]
  },
  {
   "cell_type": "markdown",
   "id": "ce4ddbee",
   "metadata": {},
   "source": [
    "random 函式庫可以讓我們用 `random.seed(N)` 函式**設定隨機種子** (seed)，其中 N 是任意的整數。設定隨機種子之後就可以控制產生的亂數，只要隨機種子的值相同，則每次執行程式依序產生的亂數都是一樣的。"
   ]
  },
  {
   "cell_type": "markdown",
   "id": "5ec57b37",
   "metadata": {
    "slideshow": {
     "slide_type": "subslide"
    }
   },
   "source": [
    "下列程式碼我們先布使用隨機種子，讓程式自行產生介於 2 和 17，以及 30 和 88 之間的亂數。其中 `random.randint(a,b)` 可隨機在整數 a 及 b 之間取一整數。"
   ]
  },
  {
   "cell_type": "code",
   "execution_count": null,
   "id": "5be1bdff",
   "metadata": {},
   "outputs": [],
   "source": [
    "import random\n",
    "print(random.randint(2, 17)) # 隨機在 2 和 17 中間取一整數\n",
    "print(random.randint(30, 88)) # 隨機在 30 和 88 中間取一整數"
   ]
  },
  {
   "cell_type": "markdown",
   "id": "435c04ce",
   "metadata": {
    "slideshow": {
     "slide_type": "subslide"
    }
   },
   "source": [
    "將上述程式碼多執行幾次，畫面顯示的結果應該都不一樣。但若我們固定隨機種子的值，則每次程式執行時，畫面顯示的結果都會相同："
   ]
  },
  {
   "cell_type": "code",
   "execution_count": null,
   "id": "7726acc2",
   "metadata": {},
   "outputs": [],
   "source": [
    "import random\n",
    "random.seed(0) # 將隨機種子固定為 0\n",
    "print(random.randint(2, 17))\n",
    "print(random.randint(30, 88))"
   ]
  },
  {
   "cell_type": "markdown",
   "id": "acff6b07",
   "metadata": {
    "slideshow": {
     "slide_type": "subslide"
    }
   },
   "source": [
    "再次執行程式，畫面上顯示的一定會是 14 和 78。如果我們把 `random.seed(0)` 改成 `random.seed(5)`，則程式每次執行時，畫面都會顯示 10 和 77。"
   ]
  },
  {
   "cell_type": "markdown",
   "id": "3c6e7369",
   "metadata": {},
   "source": [
    "**TIP** | 上述程式碼要依序執行，才會產生盒內文說明相同的數字，否則雖然隨機種子相同，但取用亂數的順序不同，結果就會產生不同的數字。另外，若在不同版本的 Python 上執行，也可能產生不同的結果。"
   ]
  }
 ],
 "metadata": {
  "celltoolbar": "Slideshow",
  "kernelspec": {
   "display_name": "Python 3 (ipykernel)",
   "language": "python",
   "name": "python3"
  },
  "language_info": {
   "codemirror_mode": {
    "name": "ipython",
    "version": 3
   },
   "file_extension": ".py",
   "mimetype": "text/x-python",
   "name": "python",
   "nbconvert_exporter": "python",
   "pygments_lexer": "ipython3",
   "version": "3.8.17"
  }
 },
 "nbformat": 4,
 "nbformat_minor": 5
}
