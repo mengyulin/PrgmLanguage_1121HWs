{
 "cells": [
  {
   "cell_type": "markdown",
   "id": "ec0e6731",
   "metadata": {},
   "source": [
    "# 作業 12\n",
    "\n",
    "## 題目說明\n",
    "\n",
    "請撰寫程式，讓使用者可以和電腦玩骰子遊戲。在每個回合裡，程式會先模擬使用者丟出一個有 6 個面的骰子，將丟出的結果（數字）顯示在畫面；接著模擬電腦丟出一個有 6 個面的骰子，也將結果（數字）顯示在畫面上。比較使用者和電腦的點數誰比較大，數字大者為贏。每個回合結束後，詢問使用者是否要繼續或是要結束遊戲。"
   ]
  }
 ],
 "metadata": {
  "kernelspec": {
   "display_name": "Python 3 (ipykernel)",
   "language": "python",
   "name": "python3"
  },
  "language_info": {
   "codemirror_mode": {
    "name": "ipython",
    "version": 3
   },
   "file_extension": ".py",
   "mimetype": "text/x-python",
   "name": "python",
   "nbconvert_exporter": "python",
   "pygments_lexer": "ipython3",
   "version": "3.11.0"
  }
 },
 "nbformat": 4,
 "nbformat_minor": 5
}
