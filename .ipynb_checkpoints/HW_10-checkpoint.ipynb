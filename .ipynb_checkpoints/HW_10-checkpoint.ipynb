{
 "cells": [
  {
   "cell_type": "markdown",
   "id": "7db40615",
   "metadata": {},
   "source": [
    "# 作業 10\n",
    "\n",
    "## 題目說明\n",
    "\n",
    "如果一個靜止的球在地面上高程 $h_0$ 處，以垂直速度 $v_0$ 被釋放，則球的高程 $h$ 及垂直速度 $v$ 以時間的函數表示為：\n",
    "\n",
    "$$\n",
    "h(t) = \\frac{1}{2}g t^2 + v_0 t + h_0\n",
    "$$\n",
    "\n",
    "$$\n",
    "v(t) = gt + v_0\n",
    "$$\n",
    "\n",
    "其中 $t~\\mathrm{(s)}$ 為時間，高程 $h~\\mathrm{(m)}$及垂直速度 $v~\\mathrm{(m/s)}$ 均朝上為正，$g = -9.81~\\mathrm{(m/s^2)}$ 為重力加速度。\n",
    "\n",
    "撰寫一程式，提示使用者輸入球在之初始高程 $h_0$ 與初始速度 $v_0$，以及經過的時間 $t$。例如以下之提示形式 (`___` 為輸入數字之處，不需出現在螢幕上)：\n",
    "\n",
    "    Input initial elevation h0 (m) = ___\n",
    "    Input initial velocity v0 (m/s) = ___\n",
    "    Input time t (s) = ___\n",
    "    \n",
    "計算出時間為 $t$ 時的高程與速度後，輸出在螢幕上(`___` 為輸出數字之處)：\n",
    "\n",
    "    Elevation at time t, h = ___ m\n",
    "    Velocity at time t, v = ___ m/s"
   ]
  }
 ],
 "metadata": {
  "kernelspec": {
   "display_name": "Python 3 (ipykernel)",
   "language": "python",
   "name": "python3"
  },
  "language_info": {
   "codemirror_mode": {
    "name": "ipython",
    "version": 3
   },
   "file_extension": ".py",
   "mimetype": "text/x-python",
   "name": "python",
   "nbconvert_exporter": "python",
   "pygments_lexer": "ipython3",
   "version": "3.11.0"
  }
 },
 "nbformat": 4,
 "nbformat_minor": 5
}
