{
 "cells": [
  {
   "cell_type": "markdown",
   "id": "f08ab4b1-7699-4018-a4f0-4714e52a350f",
   "metadata": {},
   "source": [
    "# 作業 21\n",
    "\n",
    "## 題目說明\n",
    "依下列題意進行作答，在程式中建立一篇文章中關鍵字出現次數的字典，\n",
    "其「鍵」為關鍵字，「值」為出現次數。\n",
    "再依要求排序關鍵字後輸出鍵與值。\n",
    "\n",
    "## 設計說明\n",
    "在程式中建立字典 d, 其「鍵」為關鍵字，「值」為出現次數:\n",
    "\n",
    "    d = {'cut': 3, 'gully': 4, 'storm': 2, 'brook': 2}\n",
    "\n",
    "再進行以下操作：\n",
    "\n",
    "(1) 將鍵與值依規定之格式輸出：\n",
    "\n",
    "    key {word} has value {number}\n",
    "\n",
    "其中 {word} 為關鍵字，{number} 為其出現之次數。\n",
    "\n",
    "(2) 將鍵存成串列。\n",
    "\n",
    "(3) 依字母順序排列鍵之串列，並輸出鍵與值，格式同上。\n",
    "\n",
    "(4) 依字母順序之反序排列鍵之串列，並輸出鍵與值，格式同上。\n",
    "\n",
    "## 輸入輸出\n",
    "### 輸入說明\n",
    "無\n",
    "\n",
    "### 輸出說明\n",
    "依上述操作後的鍵與值。\n",
    "\n",
    "### 範例輸出\n",
    "\n",
    "    key cut has value 3\n",
    "    key gully has value 4\n",
    "    key storm has value 2\n",
    "    key brook has value 2\n",
    "\n",
    "    key brook has value 2\n",
    "    key cut has value 3\n",
    "    key gully has value 4\n",
    "    key storm has value 2\n",
    "\n",
    "    key storm has value 2\n",
    "    key gully has value 4\n",
    "    key cut has value 3\n",
    "    key brook has value 2"
   ]
  }
 ],
 "metadata": {
  "kernelspec": {
   "display_name": "Python 3 (ipykernel)",
   "language": "python",
   "name": "python3"
  },
  "language_info": {
   "codemirror_mode": {
    "name": "ipython",
    "version": 3
   },
   "file_extension": ".py",
   "mimetype": "text/x-python",
   "name": "python",
   "nbconvert_exporter": "python",
   "pygments_lexer": "ipython3",
   "version": "3.11.0"
  }
 },
 "nbformat": 4,
 "nbformat_minor": 5
}
