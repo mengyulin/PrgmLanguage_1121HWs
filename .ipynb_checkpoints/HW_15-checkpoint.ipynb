{
 "cells": [
  {
   "cell_type": "markdown",
   "id": "74f996ef",
   "metadata": {},
   "source": [
    "# 作業 15\n",
    "\n",
    "## 題目說明\n",
    "\n",
    "請使用 while 迴圈敘述撰寫一程式，讓使用者輸入兩個正整數 a、b（a < b），\n",
    "利用迴圈計算從 a 開始的偶數連加到 b 的總和。例如：輸入 a = 1、b = 100，\n",
    "則輸出結果為 2550 (2 + 4 + … + 100 = 2550)。\n",
    "\n",
    "## 輸入輸出\n",
    "\n",
    "### 輸入說明\n",
    "\n",
    "兩個正整數（a、b，且 a < b）\n",
    "\n",
    "### 輸出說明\n",
    "\n",
    "計算從 a 開始的偶數連加到 b 的總和\n",
    "\n",
    "## Pseudo Code\n",
    "\n",
    "1. 輸入 a, b\n",
    "2. 定義起始值 `num_begin` 與終止值 `num_end`\n",
    "   * if a is even then `num_begin = a`\n",
    "   * if a is odd then `num_begin = a + 1`\n",
    "   * if b is even then ...\n",
    "   * if b is odd then ...\n",
    "3. 使用 while 迴圈計算偶數數列之和 (間隔為 2)\n",
    "\n",
    "### 範例輸入\n",
    "\n",
    "    13\n",
    "    1143\n",
    "\n",
    "### 範例輸出\n",
    "\n",
    "    326570\n"
   ]
  },
  {
   "cell_type": "code",
   "execution_count": null,
   "id": "218f8483",
   "metadata": {},
   "outputs": [],
   "source": []
  }
 ],
 "metadata": {
  "kernelspec": {
   "display_name": "Python 3 (ipykernel)",
   "language": "python",
   "name": "python3"
  },
  "language_info": {
   "codemirror_mode": {
    "name": "ipython",
    "version": 3
   },
   "file_extension": ".py",
   "mimetype": "text/x-python",
   "name": "python",
   "nbconvert_exporter": "python",
   "pygments_lexer": "ipython3",
   "version": "3.8.17"
  }
 },
 "nbformat": 4,
 "nbformat_minor": 5
}
