{
 "cells": [
  {
   "cell_type": "markdown",
   "id": "7f936408",
   "metadata": {},
   "source": [
    "# 作業四\n",
    "\n",
    "## 說明\n",
    "\n",
    "有許多方法可以得到相同的結果，此處請務必使用題目說明的步驟完成。各小題請個別撰寫程式上傳。\n",
    "\n",
    "## 題目一\n",
    "\n",
    "從字串 `\"Guten Morgen\"` 取得 `\"TEN\"`。\n",
    "\n",
    "步驟：\n",
    "1. 將變數 `string0` 初始化為 `\"Guten Morgen\"`。\n",
    "2. 使用字串切片，從變數 `string0` 中取得 `'ten'` 並存於字串變數 `string1` 中。\n",
    "3. 轉換變數 `string1` 的大小寫。\n",
    "4. 以 `print()` 輸出 `string1`。\n",
    "\n",
    "## 題目二\n",
    "\n",
    "從字串 `\"RaceTrack\"` 取得 `\"Ace\"`。\n",
    "\n",
    "步驟：\n",
    "1. 將變數 `string0` 初始化為 `\"RaceTrack\"`。\n",
    "2. 使用字串切片，從變數 `string0` 中取得 `'Ace'` 並存於字串變數 `string1` 中。\n",
    "3. 轉換變數 `string1` 的大小寫。\n",
    "4. 以 `print()` 輸出 `string1`。"
   ]
  }
 ],
 "metadata": {
  "kernelspec": {
   "display_name": "Python 3 (ipykernel)",
   "language": "python",
   "name": "python3"
  },
  "language_info": {
   "codemirror_mode": {
    "name": "ipython",
    "version": 3
   },
   "file_extension": ".py",
   "mimetype": "text/x-python",
   "name": "python",
   "nbconvert_exporter": "python",
   "pygments_lexer": "ipython3",
   "version": "3.8.17"
  }
 },
 "nbformat": 4,
 "nbformat_minor": 5
}
