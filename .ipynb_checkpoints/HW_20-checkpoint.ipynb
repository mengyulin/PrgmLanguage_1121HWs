{
 "cells": [
  {
   "cell_type": "markdown",
   "id": "401a9d23-6a9f-4ef3-ad43-42cfbe109ab6",
   "metadata": {},
   "source": [
    "# 作業 20\n",
    "\n",
    "## 題目說明\n",
    "依下列題意進行作答，輸入兩組城市字串，經串列操作後讓輸出值符合題意要求。\n",
    "\n",
    "## 設計說明\n",
    "由使用者輸入兩組英文城市名稱字串，城市間以逗號區隔，且均為小寫。\n",
    "例如\n",
    "\n",
    "    san francisco,boston,chicago,indianapolis \n",
    "\n",
    "與\n",
    "\n",
    "    new york,los angeles,houston\n",
    "\n",
    "\n",
    "將兩組字串依序存為串列一與串列二，並進行下列操作：\n",
    "\n",
    "1. 將串列二加入串列一的尾端後，輸出串列。\n",
    "2. 依堆疊形式移除一個城市，再依佇列形式移除一個城市，輸出串列。\n",
    "3. 將串列進行排序後輸出。\n",
    "\n",
    "## 輸入輸出\n",
    "### 輸入說明\n",
    "兩組英文城市名稱字串，城市間以逗號區隔，且均為小寫。\n",
    "\n",
    "### 輸出說明\n",
    "依上述操作後的城市串列。\n",
    "\n",
    "### 範例輸入一\n",
    "\n",
    "    san francisco,boston,chicago,indianapolis\n",
    "    new york,los angeles,houston\n",
    "\n",
    "### 範例輸出一\n",
    "\n",
    "    ['san francisco', 'boston', 'chicago', 'indianapolis', 'new york', 'los angeles', 'houston']\n",
    "    ['boston', 'chicago', 'indianapolis', 'new york', 'los angeles']\n",
    "    ['boston', 'chicago', 'indianapolis', 'los angeles', 'new york']\n",
    "\n",
    "### 範例輸入二\n",
    "\n",
    "    kaohsiung,taoyuan,taipei\n",
    "    chiayi,hsinchu,keelung\n",
    "\n",
    "### 範例輸出二\n",
    "\n",
    "    ['kaohsiung', 'taoyuan', 'taipei', 'chiayi', 'hsinchu', 'keelung']\n",
    "    ['taoyuan', 'taipei', 'chiayi', 'hsinchu']\n",
    "    ['chiayi', 'hsinchu', 'taipei', 'taoyuan']\n"
   ]
  }
 ],
 "metadata": {
  "kernelspec": {
   "display_name": "Python 3 (ipykernel)",
   "language": "python",
   "name": "python3"
  },
  "language_info": {
   "codemirror_mode": {
    "name": "ipython",
    "version": 3
   },
   "file_extension": ".py",
   "mimetype": "text/x-python",
   "name": "python",
   "nbconvert_exporter": "python",
   "pygments_lexer": "ipython3",
   "version": "3.11.0"
  }
 },
 "nbformat": 4,
 "nbformat_minor": 5
}
