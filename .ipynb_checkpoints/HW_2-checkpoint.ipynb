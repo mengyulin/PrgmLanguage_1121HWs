{
 "cells": [
  {
   "cell_type": "markdown",
   "id": "f04f18a8",
   "metadata": {},
   "source": [
    "# 作業二\n",
    "\n",
    "## 說明\n",
    "\n",
    "分成以下四小題，請每個小題寫一個獨立的程式碼，繳交時分別上傳。"
   ]
  },
  {
   "cell_type": "markdown",
   "id": "27b797d2",
   "metadata": {},
   "source": [
    "## 第一題\n",
    "\n",
    "寫出程式碼 `HW02_1.py` 來完成下列運算:\n",
    "\n",
    "1. 把 `2 + 2 + 2` 的計算結果指派給變數 `six`。\n",
    "2. 將變數 `six` 乘以 `-6`, 並將計算結果指派給變數 `neg`。\n",
    "3. 使用簡寫的方式將 `neg` 除以 `10`，並將計算結果指派給相同變數 `neg`。 \n",
    "4. 使用 `print()` 指令輸出變數 `neg` 的值。"
   ]
  },
  {
   "cell_type": "markdown",
   "id": "d0bbace4",
   "metadata": {},
   "source": [
    "## 第二題\n",
    "\n",
    "寫出程式碼 `HW02_2.py` 來完成下列運算:\n",
    "\n",
    "1. 把 `0.25 * 2` 的結果指派給變數 `half`。\n",
    "2. 把 `1 + half` 的結果指派給變數 `one_and_half`。 \n",
    "3. 使用 `print()` 指令輸出變數 `one_and_half` 的值。"
   ]
  },
  {
   "cell_type": "markdown",
   "id": "8e13aa7a",
   "metadata": {},
   "source": [
    "## 第三題\n",
    "\n",
    "寫出程式碼 `HW02_3.py` 來完成下列運算:\n",
    "\n",
    "1. 把 `True` 指派給變數 `cold`。\n",
    "2. 把 `False` 指派給變數 `rain`。\n",
    "3. 使用 `and` 這個邏輯算符，把 `cold and rain` 的運算結果指派給變數 `day`。 \n",
    "4. 使用 `print()` 指令輸出變數 `day` 的值。"
   ]
  },
  {
   "cell_type": "markdown",
   "id": "93baa7e8",
   "metadata": {},
   "source": [
    "## 第四題\n",
    "\n",
    "寫出程式碼 `HW02_4.py` 來完成下列運算:\n",
    "\n",
    "1. 把字串 `\"one\"` 指派給變數 `one`。\n",
    "2. 把字串 `\"1.0\"` 指派給變數 `another_one`。 \n",
    "3. 把字串 `\"one 1\"` 指派給變數 `last_one`。\n",
    "4. 將上述變數相加，指派給變數 `all_one`。 \n",
    "5. 使用 `print()` 指令輸出變數 `all_one` 的值。"
   ]
  }
 ],
 "metadata": {
  "kernelspec": {
   "display_name": "Python 3 (ipykernel)",
   "language": "python",
   "name": "python3"
  },
  "language_info": {
   "codemirror_mode": {
    "name": "ipython",
    "version": 3
   },
   "file_extension": ".py",
   "mimetype": "text/x-python",
   "name": "python",
   "nbconvert_exporter": "python",
   "pygments_lexer": "ipython3",
   "version": "3.11.0"
  }
 },
 "nbformat": 4,
 "nbformat_minor": 5
}
