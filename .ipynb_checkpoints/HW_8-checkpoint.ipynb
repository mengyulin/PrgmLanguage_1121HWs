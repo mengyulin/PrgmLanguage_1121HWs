{
 "cells": [
  {
   "cell_type": "markdown",
   "id": "dcf39643",
   "metadata": {},
   "source": [
    "# 作業八\n",
    "\n",
    "## 題目說明\n",
    "\n",
    "編寫程式依序輸入\n",
    "\n",
    "* 姓名\n",
    "* 年齡 \n",
    "* 年數\n",
    "\n",
    "年齡與年數均為整數。計算經過幾年後的年紀為如何，並輸出結果。\n",
    "\n",
    "例如，輸入姓名為 `Bob`, 年齡為 `10`，年數為 `25`，則程式可顯示 \n",
    "\n",
    "    Hi Bob! In 25 years you will be 35!\n",
    "    \n",
    "注意輸出的空格與標點符號需與範例完全一致。\n"
   ]
  }
 ],
 "metadata": {
  "kernelspec": {
   "display_name": "Python 3 (ipykernel)",
   "language": "python",
   "name": "python3"
  },
  "language_info": {
   "codemirror_mode": {
    "name": "ipython",
    "version": 3
   },
   "file_extension": ".py",
   "mimetype": "text/x-python",
   "name": "python",
   "nbconvert_exporter": "python",
   "pygments_lexer": "ipython3",
   "version": "3.8.17"
  }
 },
 "nbformat": 4,
 "nbformat_minor": 5
}
