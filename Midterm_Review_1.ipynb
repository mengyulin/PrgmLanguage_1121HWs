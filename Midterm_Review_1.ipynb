{
 "cells": [
  {
   "cell_type": "markdown",
   "id": "ece327ba",
   "metadata": {
    "slideshow": {
     "slide_type": "skip"
    }
   },
   "source": [
    "[![Open In Colab](https://colab.research.google.com/assets/colab-badge.svg)](https://github.com/mengyulin/PrgmLanguage_1121HWs/blob/main/Midterm_Review_1.ipynb)"
   ]
  },
  {
   "cell_type": "markdown",
   "id": "60b03692",
   "metadata": {
    "slideshow": {
     "slide_type": "slide"
    }
   },
   "source": [
    "# 問題 1: 計算字數 (Word Count)\n",
    "\n",
    "## 問題敘述\n",
    "\n",
    "計算提供的英文單字數量。此問題的英文單字是指任何小寫字母所組成的文字序列。例如，hello 是一個單字，但像 bbaabbb 這樣的無意義的英文也算一個單字。"
   ]
  },
  {
   "cell_type": "markdown",
   "id": "bf8fbf99",
   "metadata": {
    "slideshow": {
     "slide_type": "subslide"
    }
   },
   "source": [
    "## 輸入\n",
    "\n",
    "輸入的內容是一行文字，由小寫字母和空格組成。每對單字之間是以空格分開，第一個單字之前和最後一個單字之後是没有空格的。\n",
    "\n",
    "一行的最大長度為 80 個字元。\n",
    "\n",
    "## 輸出\n",
    "\n",
    "輸出的內容為算出輸入行有多少個單字的數量。"
   ]
  },
  {
   "cell_type": "markdown",
   "id": "0ab5077a",
   "metadata": {
    "slideshow": {
     "slide_type": "slide"
    }
   },
   "source": [
    "# 複習"
   ]
  },
  {
   "cell_type": "markdown",
   "id": "a369d988",
   "metadata": {
    "slideshow": {
     "slide_type": "-"
    }
   },
   "source": [
    "## 字串方法\n",
    "\n",
    "* 方法（method）是特定於某種型別的值才有的操作處理。\n",
    "\n",
    "* 例如，upper 是個很常用的方法，它能讓英文字串變成大寫的版本："
   ]
  },
  {
   "cell_type": "code",
   "execution_count": null,
   "id": "6a062abd",
   "metadata": {
    "slideshow": {
     "slide_type": "-"
    }
   },
   "outputs": [],
   "source": []
  },
  {
   "cell_type": "markdown",
   "id": "d128ea13",
   "metadata": {
    "slideshow": {
     "slide_type": "subslide"
    }
   },
   "source": [
    "* 從方法中取得的資訊稱為方法的返回値（return value），對某個值執行方法的這個操作稱為「呼叫方法」。\n",
    "* 呼叫方法是在值和方法名稱之問要放上句號運算子（.），它還需要在方法名稱後面加上括號。\n",
    "* 對於某些方法，括號中是空的，就像呼叫 upper 方法的操作處理。\n",
    "* 但有些方法，則可能需要在括號中放入某些資訊。若没有放入必需的資訊，這此方法就根本無法運作。我們在呼叫方法時所引入的資訊稱為方法的引數 (argument)。"
   ]
  },
  {
   "cell_type": "markdown",
   "id": "39d09762",
   "metadata": {
    "slideshow": {
     "slide_type": "slide"
    }
   },
   "source": [
    "### 範例：strip\n",
    "\n",
    "舉例來說，字串中有個 strip 方法，在呼叫時若括號沒有放入引數，strip 方法就會把要處理的字串中前後的空格都去掉："
   ]
  },
  {
   "cell_type": "code",
   "execution_count": null,
   "id": "65c710e1",
   "metadata": {
    "slideshow": {
     "slide_type": "-"
    }
   },
   "outputs": [],
   "source": []
  },
  {
   "cell_type": "code",
   "execution_count": null,
   "id": "d153b411",
   "metadata": {
    "slideshow": {
     "slide_type": "-"
    }
   },
   "outputs": [],
   "source": []
  },
  {
   "cell_type": "code",
   "execution_count": null,
   "id": "d3601d6f",
   "metadata": {
    "slideshow": {
     "slide_type": "-"
    }
   },
   "outputs": [],
   "source": []
  },
  {
   "cell_type": "markdown",
   "id": "c3a30383",
   "metadata": {
    "slideshow": {
     "slide_type": "subslide"
    }
   },
   "source": [
    "但我們也可以搭配字串引數來呼叫。如果這樣做，這個字串引數就是用來決定要刪除哪些字元:"
   ]
  },
  {
   "cell_type": "code",
   "execution_count": null,
   "id": "721d7c94",
   "metadata": {
    "slideshow": {
     "slide_type": "-"
    }
   },
   "outputs": [],
   "source": []
  },
  {
   "cell_type": "code",
   "execution_count": null,
   "id": "355f0a67",
   "metadata": {
    "slideshow": {
     "slide_type": "-"
    }
   },
   "outputs": [],
   "source": []
  },
  {
   "cell_type": "code",
   "execution_count": null,
   "id": "037e0be4",
   "metadata": {
    "slideshow": {
     "slide_type": "-"
    }
   },
   "outputs": [],
   "source": []
  },
  {
   "cell_type": "markdown",
   "id": "f7e20c7d",
   "metadata": {
    "slideshow": {
     "slide_type": "slide"
    }
   },
   "source": [
    "### 範例：count\n",
    "\n",
    "如果傳入一個字串引數，則 count 會告知要處理的字串中有多少個符合該字串引數的數量:"
   ]
  },
  {
   "cell_type": "code",
   "execution_count": null,
   "id": "23f91ee6",
   "metadata": {
    "slideshow": {
     "slide_type": "-"
    }
   },
   "outputs": [],
   "source": []
  },
  {
   "cell_type": "code",
   "execution_count": null,
   "id": "72cd2d6f",
   "metadata": {
    "slideshow": {
     "slide_type": "-"
    }
   },
   "outputs": [],
   "source": []
  },
  {
   "cell_type": "code",
   "execution_count": null,
   "id": "e770b16f",
   "metadata": {
    "slideshow": {
     "slide_type": "-"
    }
   },
   "outputs": [],
   "source": []
  },
  {
   "cell_type": "code",
   "execution_count": null,
   "id": "531b8ede",
   "metadata": {
    "slideshow": {
     "slide_type": "-"
    }
   },
   "outputs": [],
   "source": []
  },
  {
   "cell_type": "markdown",
   "id": "f76a8ea4",
   "metadata": {
    "slideshow": {
     "slide_type": "subslide"
    }
   },
   "source": [
    "* 假設有個 `'this is a string with a few words'` 這樣的字串，這裡的每個單字後面都有個空格。\n",
    "* 如果我們計算字串中的有多少個空格數量會是怎麼樣的情況呢?\n",
    "* 我們可以傳入單個空格字元的字串到 count 方法來讓它計數。"
   ]
  },
  {
   "cell_type": "code",
   "execution_count": null,
   "id": "85fc89fa",
   "metadata": {
    "slideshow": {
     "slide_type": "-"
    }
   },
   "outputs": [],
   "source": []
  },
  {
   "cell_type": "markdown",
   "id": "18976a15",
   "metadata": {
    "slideshow": {
     "slide_type": "subslide"
    }
   },
   "source": [
    "* 由於除了最後一個單字之外，每個單字後面都有一個空格。因此計算空格時少算了最後的單字。\n",
    "* 為了解決這個問題，我們還需要學習如何處理數值資料。"
   ]
  },
  {
   "cell_type": "markdown",
   "id": "4a6d818e",
   "metadata": {
    "slideshow": {
     "slide_type": "slide"
    }
   },
   "source": [
    "## 使用變數來處理計算字數\n",
    "\n",
    "讓我們回顧一下在解決計算字數問題的學習進展：\n",
    "\n",
    "* 學過字串，可以使用字串來存放要計數的文字行。\n",
    "* 知道字串計數方法，可以用 count 方法來計算文字行中的空格數量。\n",
    "* 學過整數，可以使用整數的 + 運算子對某個數加 1。\n",
    "* 了解變數和指定陳述句，可以幫助我們存放值而不直接丟失。"
   ]
  },
  {
   "cell_type": "markdown",
   "id": "b1a96ae8",
   "metadata": {
    "slideshow": {
     "slide_type": "subslide"
    }
   },
   "source": [
    "把上述學會的所有東西整合在一起，我們可以用一個變數指到某個字串，然後計算其中單字的數量："
   ]
  },
  {
   "cell_type": "code",
   "execution_count": null,
   "id": "0f20b73f",
   "metadata": {
    "slideshow": {
     "slide_type": "-"
    }
   },
   "outputs": [],
   "source": []
  },
  {
   "cell_type": "markdown",
   "id": "0c2ae54a",
   "metadata": {
    "slideshow": {
     "slide_type": "subslide"
    }
   },
   "source": [
    "其實這裡不需要用到 `line` 和 `total_words` 變數；以下是沒有變數的做法："
   ]
  },
  {
   "cell_type": "code",
   "execution_count": null,
   "id": "8b512697",
   "metadata": {
    "slideshow": {
     "slide_type": "-"
    }
   },
   "outputs": [],
   "source": []
  },
  {
   "cell_type": "markdown",
   "id": "1e38d081",
   "metadata": {
    "slideshow": {
     "slide_type": "-"
    }
   },
   "source": [
    "但使用變數來取得中間結果是保持程式碼可讀性的好習慣。一旦程式愈來愈大，長度愈來愈長時，變數還是必須使用的。"
   ]
  },
  {
   "cell_type": "markdown",
   "id": "be556e3a",
   "metadata": {
    "slideshow": {
     "slide_type": "slide"
    }
   },
   "source": [
    "## 讀取輸入內容\n",
    "\n",
    "* 前述程式碼只是處理我們所寫的特定字串 `'this is a string with a few words'`。\n",
    "* 如果我們想計算不同字串中有多少單字，需要讓程式能處理在輸入時所提供的任何字串。\n",
    "* 若想要讀取一行輸入，可以使用 input 函式來處理。"
   ]
  },
  {
   "cell_type": "markdown",
   "id": "9bd8c197",
   "metadata": {
    "slideshow": {
     "slide_type": "subslide"
    }
   },
   "source": [
    "下面是呼叫 input 函式然後輸入一些內容的範例。在這個例子中，輸入了一個單字 `'testing'`:"
   ]
  },
  {
   "cell_type": "code",
   "execution_count": null,
   "id": "2c755445",
   "metadata": {
    "slideshow": {
     "slide_type": "-"
    }
   },
   "outputs": [],
   "source": []
  },
  {
   "cell_type": "markdown",
   "id": "643a792d",
   "metadata": {
    "slideshow": {
     "slide_type": "-"
    }
   },
   "source": [
    "要注意在 IPython (Python shell) 環境才會輸出讀入的內容。"
   ]
  },
  {
   "cell_type": "markdown",
   "id": "49ee6341",
   "metadata": {
    "slideshow": {
     "slide_type": "subslide"
    }
   },
   "source": [
    "不論在哪個環境，如果我們沒有把這個字串存放起來，那麼這個字串就會消失。\n",
    "讓我們使用指定陳述句來存放輸入的內容:"
   ]
  },
  {
   "cell_type": "code",
   "execution_count": null,
   "id": "f33c0628",
   "metadata": {
    "slideshow": {
     "slide_type": "-"
    }
   },
   "outputs": [],
   "source": []
  },
  {
   "cell_type": "code",
   "execution_count": null,
   "id": "1a14077f",
   "metadata": {
    "slideshow": {
     "slide_type": "-"
    }
   },
   "outputs": [],
   "source": []
  },
  {
   "cell_type": "code",
   "execution_count": null,
   "id": "c41970c4",
   "metadata": {
    "slideshow": {
     "slide_type": "-"
    }
   },
   "outputs": [],
   "source": []
  },
  {
   "cell_type": "code",
   "execution_count": null,
   "id": "3db16bce",
   "metadata": {
    "slideshow": {
     "slide_type": "-"
    }
   },
   "outputs": [],
   "source": []
  },
  {
   "cell_type": "markdown",
   "id": "8cfc9328",
   "metadata": {
    "slideshow": {
     "slide_type": "slide"
    }
   },
   "source": [
    "## 印出輸出內容\n",
    "\n",
    "在 Python shell 之外執行 Python 程式時，如果想要輸出些東西，就必須使用 `print` 函式來處理。`print` 函式也可以在 shell 模式下執行；請注意：`print` 輸出字串並不會有引號。"
   ]
  },
  {
   "cell_type": "code",
   "execution_count": null,
   "id": "9bb11cb6",
   "metadata": {
    "slideshow": {
     "slide_type": "-"
    }
   },
   "outputs": [],
   "source": []
  },
  {
   "cell_type": "markdown",
   "id": "6b39fc07",
   "metadata": {
    "slideshow": {
     "slide_type": "slide"
    }
   },
   "source": [
    "# 問題解答\n",
    "\n",
    "## 程式流程\n",
    "\n",
    "1. 輸入一行文字，存於字串變數中。\n",
    "2. 使用方法 count 計算空格與字數。\n",
    "3. 輸出字數。"
   ]
  },
  {
   "cell_type": "code",
   "execution_count": null,
   "id": "1aadb24b",
   "metadata": {
    "slideshow": {
     "slide_type": "-"
    }
   },
   "outputs": [],
   "source": []
  },
  {
   "cell_type": "code",
   "execution_count": null,
   "id": "c7769e0e",
   "metadata": {},
   "outputs": [],
   "source": []
  }
 ],
 "metadata": {
  "celltoolbar": "Slideshow",
  "kernelspec": {
   "display_name": "Python 3 (ipykernel)",
   "language": "python",
   "name": "python3"
  },
  "language_info": {
   "codemirror_mode": {
    "name": "ipython",
    "version": 3
   },
   "file_extension": ".py",
   "mimetype": "text/x-python",
   "name": "python",
   "nbconvert_exporter": "python",
   "pygments_lexer": "ipython3",
   "version": "3.8.17"
  }
 },
 "nbformat": 4,
 "nbformat_minor": 5
}
