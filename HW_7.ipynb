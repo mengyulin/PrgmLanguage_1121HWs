{
 "cells": [
  {
   "cell_type": "markdown",
   "id": "f30e628c",
   "metadata": {},
   "source": [
    "# 作業七\n",
    "\n",
    "## 題目說明\n",
    "\n",
    "初始化下列變數 (`t` 為一空的 touple):\n",
    "\n",
    "    word = 'echo'\n",
    "    t = ()\n",
    "\n",
    "並使用 `input()`，讀入一個正整數存入 `count`。\n",
    "\n",
    "使用上述變數，以及本章提到的 tuple 相關操作方法，先將 `word` 的值依據 `count` 之次數重複放入 `t`。而後將 `word` 的值每次刪減一個字元後，再將刪減後的子字串依據 `count` 之次數重複放入 `t`，直到刪減的子字串剩一個字母為止。最後在畫面顯示 `t` 的內容。\n",
    "\n",
    "## 程式步驟\n",
    "\n",
    "1. 初始化題目要求之變數，並使用 `input()` 輸入 `count` 且轉為整數型別。\n",
    "2. 將 `word` 的值放入一個 tuple 物件，並依據 `count` 值重複加入 `t`。\n",
    "3. 將 `word` 的值使用切片每次刪減一個字元後，放入一個 tuple 物件後再依據 `count` 值重複加入 `t`。\n",
    "4. 使用 `print()` 輸出 `t` 的值。\n",
    "\n",
    "\n",
    "## 執行範例\n",
    "\n",
    "### 輸入值\n",
    "\n",
    "    3\n",
    "\n",
    "### 輸出值\n",
    "\n",
    "\n",
    "    ('echo', 'echo', 'echo', 'cho', 'cho', 'cho', 'ho', 'ho', 'ho', 'o', 'o', 'o')"
   ]
  }
 ],
 "metadata": {
  "kernelspec": {
   "display_name": "Python 3 (ipykernel)",
   "language": "python",
   "name": "python3"
  },
  "language_info": {
   "codemirror_mode": {
    "name": "ipython",
    "version": 3
   },
   "file_extension": ".py",
   "mimetype": "text/x-python",
   "name": "python",
   "nbconvert_exporter": "python",
   "pygments_lexer": "ipython3",
   "version": "3.8.17"
  }
 },
 "nbformat": 4,
 "nbformat_minor": 5
}
