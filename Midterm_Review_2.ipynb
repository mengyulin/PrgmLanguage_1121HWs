{
 "cells": [
  {
   "cell_type": "markdown",
   "metadata": {},
   "source": [
    "[![Open In Colab](https://colab.research.google.com/assets/colab-badge.svg)](https://github.com/mengyulin/PrgmLanguage_1121HWs/blob/main/Midterm_Review_2.ipynb)"
   ]
  },
  {
   "cell_type": "markdown",
   "id": "4c9aad1c",
   "metadata": {
    "slideshow": {
     "slide_type": "slide"
    }
   },
   "source": [
    "# 問題 2: 勝利的球隊 (Winning Team)\n",
    "\n",
    "## 問題敘述\n",
    "\n",
    "在籃球比賽中有三種得分狀況：三分球、兩分球和一分罰球。假設您剛才看了蘋果隊 (Apples) 和香蕉隊 (Bananas) 的籃球比賽，並記錄了兩支球隊所投入的三分球、兩分球和一分球的進球數，請指出是蘋果隊贏了，還是香蕉隊贏了，亦或是兩隊平手。"
   ]
  },
  {
   "cell_type": "markdown",
   "id": "02826856",
   "metadata": {
    "slideshow": {
     "slide_type": "subslide"
    }
   },
   "source": [
    "### 輸入\n",
    "\n",
    "有 6 行輸入的內容 。前 3 行是蘋果隊的，後 3 行是香蕉隊的:\n",
    "\n",
    "* 第 1 行是蘋果隊的 3 分球進球數。\n",
    "* 第 2 行是蘋果隊的 2 分球進球數。\n",
    "* 第 3 行是蘋果隊的 1 分罰球進球數。\n",
    "* 第 4 行是香蕉隊的 3 分球進球數。\n",
    "* 第 5 行是香蕉隊的 2 分球進球數。\n",
    "* 第 6 行是香蕉隊的 1 分罰球進球數。 \n",
    "\n",
    "輸入的整數值範圍是 0 到 100 之間的整數。"
   ]
  },
  {
   "cell_type": "markdown",
   "id": "5ef8eace",
   "metadata": {
    "slideshow": {
     "slide_type": "subslide"
    }
   },
   "source": [
    "### 輸出\n",
    "\n",
    "輸出結果為單一個字元。\n",
    "\n",
    "* 如果蘋果隊得分大於香蕉隊得分，則輸出 A (A 代 表 Apples 隊勝 )。 \n",
    "* 如果香蕉隊得分大於蘋果隊得分，則輸出 B (B 代表 Bananas 隊勝)。 \n",
    "* 如果蘋果隊得分等於香蕉隊得分，則輸出 T (T 代表 Tie，平手)。"
   ]
  },
  {
   "cell_type": "markdown",
   "id": "57b76331",
   "metadata": {
    "slideshow": {
     "slide_type": "slide"
    }
   },
   "source": [
    "# 條件執行\n",
    "\n",
    "運用 input 和 int 從輸入中讀取 6 個整數值，並使用變數來存放這此值。處理時可以把三分球的進球數乘以 3，並把兩分球的進球數乘以 2。最後使用 print 來輸出 A、B 或 T。"
   ]
  },
  {
   "cell_type": "markdown",
   "id": "a5e7388b",
   "metadata": {
    "slideshow": {
     "slide_type": "subslide"
    }
   },
   "source": [
    "首先，請思考下列這個測試案例：\n",
    "\n",
    "    5\n",
    "    1\n",
    "    3\n",
    "    1\n",
    "    1\n",
    "    1\n",
    "\n",
    "蘋果隊的得分是 `5*3+1*2+3 = 20` 分，而香蕉隊的得分是 `1*3+1*2+1 = 6` 分。蘋果隊獲勝，所以輸出是：\n",
    " \n",
    "    A"
   ]
  },
  {
   "cell_type": "markdown",
   "id": "6da88d0c",
   "metadata": {
    "slideshow": {
     "slide_type": "subslide"
    }
   },
   "source": [
    "* 我們會使用 Python 的 if 陳述句語法來處理道樣的決策。\n",
    "* 條件 (condition) 是指表示式 (expression) 所產生的 True 或 False 值。\n",
    "* if 陳述句會使用這個條件結果來決定接下來要進行什麼動作。"
   ]
  },
  {
   "cell_type": "markdown",
   "id": "06486bc8",
   "metadata": {
    "slideshow": {
     "slide_type": "slide"
    }
   },
   "source": [
    "## 布林型別\n",
    "\n",
    "把表示式放入Python 的 type 函式中執行，就能得到該表示式的型別是什麼："
   ]
  },
  {
   "cell_type": "code",
   "execution_count": 1,
   "id": "473f90b4",
   "metadata": {},
   "outputs": [
    {
     "data": {
      "text/plain": [
       "int"
      ]
     },
     "execution_count": 1,
     "metadata": {},
     "output_type": "execute_result"
    }
   ],
   "source": [
    "type(14)"
   ]
  },
  {
   "cell_type": "code",
   "execution_count": 2,
   "id": "4afa8cd5",
   "metadata": {},
   "outputs": [
    {
     "data": {
      "text/plain": [
       "float"
      ]
     },
     "execution_count": 2,
     "metadata": {},
     "output_type": "execute_result"
    }
   ],
   "source": [
    "type(9.5)"
   ]
  },
  {
   "cell_type": "code",
   "execution_count": 3,
   "id": "68b2aeda",
   "metadata": {},
   "outputs": [
    {
     "data": {
      "text/plain": [
       "str"
      ]
     },
     "execution_count": 3,
     "metadata": {},
     "output_type": "execute_result"
    }
   ],
   "source": [
    "type('hello')"
   ]
  },
  {
   "cell_type": "code",
   "execution_count": 4,
   "id": "4e54b524",
   "metadata": {},
   "outputs": [
    {
     "data": {
      "text/plain": [
       "int"
      ]
     },
     "execution_count": 4,
     "metadata": {},
     "output_type": "execute_result"
    }
   ],
   "source": [
    "type(12 + 15)"
   ]
  },
  {
   "cell_type": "markdown",
   "id": "67917a30",
   "metadata": {
    "slideshow": {
     "slide_type": "subslide"
    }
   },
   "source": [
    "這裡還有個布林型別（bool）還沒介紹，此型別不像整數、字串和浮點數這類型别的可能值有非常多，布林型別的值只有兩個，那就是 True 和False。"
   ]
  },
  {
   "cell_type": "code",
   "execution_count": 5,
   "id": "e373a295",
   "metadata": {},
   "outputs": [
    {
     "data": {
      "text/plain": [
       "True"
      ]
     },
     "execution_count": 5,
     "metadata": {},
     "output_type": "execute_result"
    }
   ],
   "source": [
    "True"
   ]
  },
  {
   "cell_type": "code",
   "execution_count": 6,
   "id": "09cebbdb",
   "metadata": {},
   "outputs": [
    {
     "data": {
      "text/plain": [
       "False"
      ]
     },
     "execution_count": 6,
     "metadata": {},
     "output_type": "execute_result"
    }
   ],
   "source": [
    "False"
   ]
  },
  {
   "cell_type": "code",
   "execution_count": 7,
   "id": "8b009463",
   "metadata": {},
   "outputs": [
    {
     "data": {
      "text/plain": [
       "bool"
      ]
     },
     "execution_count": 7,
     "metadata": {},
     "output_type": "execute_result"
    }
   ],
   "source": [
    "type(True)"
   ]
  },
  {
   "cell_type": "code",
   "execution_count": 8,
   "id": "6cff19cc",
   "metadata": {},
   "outputs": [
    {
     "data": {
      "text/plain": [
       "bool"
      ]
     },
     "execution_count": 8,
     "metadata": {},
     "output_type": "execute_result"
    }
   ],
   "source": [
    "type(False)"
   ]
  },
  {
   "cell_type": "markdown",
   "id": "1817b4ed",
   "metadata": {
    "slideshow": {
     "slide_type": "subslide"
    }
   },
   "source": [
    "對於數宇，我們使用了 + 和 - 這種數學運算子來把值組合成更複雜的表示式。但布林值則需要使用一組新的運算子來處理。"
   ]
  },
  {
   "cell_type": "markdown",
   "id": "e332f5e6",
   "metadata": {
    "slideshow": {
     "slide_type": "slide"
    }
   },
   "source": [
    "## 關係運算子\n",
    "\n",
    "* 5 是否大於 2 呢？4 是否小於 1 呢？使用 Python 的關係運算子可以進行這檏的比較處理。\n",
    "* 關係運算子所產生的結果為 True 或 False，這可以用來編寫布林表示式。\n",
    "* 一連算子會比較兩個運算元，如果第 1 個運算元大於第 2 運算元則返回 True，否則返回 False:"
   ]
  },
  {
   "cell_type": "code",
   "execution_count": 9,
   "id": "036426c6",
   "metadata": {
    "slideshow": {
     "slide_type": "subslide"
    }
   },
   "outputs": [
    {
     "data": {
      "text/plain": [
       "True"
      ]
     },
     "execution_count": 9,
     "metadata": {},
     "output_type": "execute_result"
    }
   ],
   "source": [
    "5 > 2"
   ]
  },
  {
   "cell_type": "code",
   "execution_count": 10,
   "id": "6eb5867d",
   "metadata": {},
   "outputs": [
    {
     "data": {
      "text/plain": [
       "False"
      ]
     },
     "execution_count": 10,
     "metadata": {},
     "output_type": "execute_result"
    }
   ],
   "source": [
    "4 < 1"
   ]
  },
  {
   "cell_type": "code",
   "execution_count": 11,
   "id": "dfbe12fb",
   "metadata": {},
   "outputs": [
    {
     "data": {
      "text/plain": [
       "True"
      ]
     },
     "execution_count": 11,
     "metadata": {},
     "output_type": "execute_result"
    }
   ],
   "source": [
    "-2 < 0"
   ]
  },
  {
   "cell_type": "code",
   "execution_count": 12,
   "id": "e7780cea",
   "metadata": {},
   "outputs": [
    {
     "data": {
      "text/plain": [
       "True"
      ]
     },
     "execution_count": 12,
     "metadata": {},
     "output_type": "execute_result"
    }
   ],
   "source": [
    "4 >= 2"
   ]
  },
  {
   "cell_type": "code",
   "execution_count": 13,
   "id": "8af8632c",
   "metadata": {},
   "outputs": [
    {
     "data": {
      "text/plain": [
       "False"
      ]
     },
     "execution_count": 13,
     "metadata": {},
     "output_type": "execute_result"
    }
   ],
   "source": [
    "8 <= 6"
   ]
  },
  {
   "cell_type": "code",
   "execution_count": 14,
   "id": "f9bb23e1",
   "metadata": {
    "slideshow": {
     "slide_type": "subslide"
    }
   },
   "outputs": [
    {
     "data": {
      "text/plain": [
       "True"
      ]
     },
     "execution_count": 14,
     "metadata": {},
     "output_type": "execute_result"
    }
   ],
   "source": [
    "5 == 5"
   ]
  },
  {
   "cell_type": "code",
   "execution_count": 36,
   "id": "8d3ce333",
   "metadata": {},
   "outputs": [
    {
     "data": {
      "text/plain": [
       "False"
      ]
     },
     "execution_count": 36,
     "metadata": {},
     "output_type": "execute_result"
    }
   ],
   "source": [
    "5 != 5"
   ]
  },
  {
   "cell_type": "code",
   "execution_count": 37,
   "id": "a2d793eb",
   "metadata": {},
   "outputs": [
    {
     "data": {
      "text/plain": [
       "True"
      ]
     },
     "execution_count": 37,
     "metadata": {},
     "output_type": "execute_result"
    }
   ],
   "source": [
    "5 != 10"
   ]
  },
  {
   "cell_type": "code",
   "execution_count": 20,
   "id": "5c0523b7",
   "metadata": {
    "slideshow": {
     "slide_type": "subslide"
    }
   },
   "outputs": [
    {
     "data": {
      "text/plain": [
       "False"
      ]
     },
     "execution_count": 20,
     "metadata": {},
     "output_type": "execute_result"
    }
   ],
   "source": [
    "import math\n",
    "a = math.sin(math.pi)\n",
    "a == 0"
   ]
  },
  {
   "cell_type": "code",
   "execution_count": 21,
   "id": "f5e358df",
   "metadata": {},
   "outputs": [
    {
     "data": {
      "text/plain": [
       "1.2246467991473532e-16"
      ]
     },
     "execution_count": 21,
     "metadata": {},
     "output_type": "execute_result"
    }
   ],
   "source": [
    "a"
   ]
  },
  {
   "cell_type": "markdown",
   "id": "d031a5c3",
   "metadata": {
    "slideshow": {
     "slide_type": "subslide"
    }
   },
   "source": [
    "浮點數的相等（或接近）可以用 `math.isclose()` 函式。參考連結：[math.isclose](https://docs.python.org/3/library/math.html?highlight=math#math.isclose)。"
   ]
  },
  {
   "cell_type": "code",
   "execution_count": 31,
   "id": "c0898c25",
   "metadata": {},
   "outputs": [
    {
     "data": {
      "text/plain": [
       "0.30000000000000004"
      ]
     },
     "execution_count": 31,
     "metadata": {},
     "output_type": "execute_result"
    }
   ],
   "source": [
    "0.1 + 0.2"
   ]
  },
  {
   "cell_type": "code",
   "execution_count": 32,
   "id": "7ac446ec",
   "metadata": {},
   "outputs": [
    {
     "data": {
      "text/plain": [
       "False"
      ]
     },
     "execution_count": 32,
     "metadata": {},
     "output_type": "execute_result"
    }
   ],
   "source": [
    "0.1 + 0.2 == 0.3"
   ]
  },
  {
   "cell_type": "code",
   "execution_count": 33,
   "id": "481031b6",
   "metadata": {},
   "outputs": [
    {
     "data": {
      "text/plain": [
       "True"
      ]
     },
     "execution_count": 33,
     "metadata": {},
     "output_type": "execute_result"
    }
   ],
   "source": [
    "math.isclose(0.1 + 0.2, 0.3)"
   ]
  },
  {
   "cell_type": "markdown",
   "id": "5c00e44b",
   "metadata": {
    "slideshow": {
     "slide_type": "subslide"
    }
   },
   "source": [
    "但判斷浮點數是否等於零，並不適合用 `math.isclose()`，而應該使用系統的內建精度："
   ]
  },
  {
   "cell_type": "code",
   "execution_count": 34,
   "id": "283e5fee",
   "metadata": {},
   "outputs": [
    {
     "name": "stdout",
     "output_type": "stream",
     "text": [
      "1.2246467991473532e-16\n",
      "False\n"
     ]
    }
   ],
   "source": [
    "a = math.sin(math.pi)\n",
    "print(a)\n",
    "print(math.isclose(a, 0))"
   ]
  },
  {
   "cell_type": "code",
   "execution_count": 28,
   "id": "1f28c46f",
   "metadata": {},
   "outputs": [
    {
     "data": {
      "text/plain": [
       "2.220446049250313e-16"
      ]
     },
     "execution_count": 28,
     "metadata": {},
     "output_type": "execute_result"
    }
   ],
   "source": [
    "import sys\n",
    "sys.float_info.epsilon"
   ]
  },
  {
   "cell_type": "code",
   "execution_count": 35,
   "id": "6458cfca",
   "metadata": {},
   "outputs": [
    {
     "data": {
      "text/plain": [
       "True"
      ]
     },
     "execution_count": 35,
     "metadata": {},
     "output_type": "execute_result"
    }
   ],
   "source": [
    "abs(a) <= sys.float_info.epsilon"
   ]
  },
  {
   "cell_type": "markdown",
   "id": "8f2752ef",
   "metadata": {
    "slideshow": {
     "slide_type": "slide"
    }
   },
   "source": [
    "# 問題的解答\n",
    "\n",
    "1. 讀取輸入的資料。這裡需要 6 個 input 的呼叫，因為有兩支球隊，每支球隊有三段資訊。另外還需要把輸入值都轉換為整數。\n",
    "2. 確定蘋果隊和香蕉隊得分的總數。把球隊的三分球、兩分球和一分球的得分相加。\n",
    "3. 讓程式輸出結果。如果蘋果隊羸了，就輸出 A；如果香蕉隊獲勝，則輸出 B；否則就是平手，因此輸出 T。"
   ]
  },
  {
   "cell_type": "code",
   "execution_count": 41,
   "id": "0ddafda9",
   "metadata": {
    "slideshow": {
     "slide_type": "subslide"
    }
   },
   "outputs": [
    {
     "name": "stdout",
     "output_type": "stream",
     "text": [
      "1\n",
      "1\n",
      "1\n",
      "1\n",
      "1\n",
      "1\n",
      "T\n"
     ]
    }
   ],
   "source": [
    "# ... 讀取輸入的資料 ...\n",
    "apple_three = int(input())\n",
    "apple_two = int(input())\n",
    "apple_one = int(input())\n",
    "\n",
    "banana_three = int(input())\n",
    "banana_two = int(input())\n",
    "banana_one = int(input())\n",
    "\n",
    "# ... 確定蘋果隊和香蕉隊得分的總數 ...\n",
    "apple_total = apple_three * 3 + apple_two * 2 + apple_one \n",
    "banana_total = banana_three * 3 + banana_two * 2 + banana_one\n",
    "\n",
    "# ... 判斷獲勝球隊並輸出結果 ...\n",
    "if apple_total > banana_total:\n",
    "    print('A')\n",
    "elif banana_total > apple_total:\n",
    "    print ('B')\n",
    "else:\n",
    "    print ('T')"
   ]
  }
 ],
 "metadata": {
  "celltoolbar": "Slideshow",
  "kernelspec": {
   "display_name": "Python 3 (ipykernel)",
   "language": "python",
   "name": "python3"
  },
  "language_info": {
   "codemirror_mode": {
    "name": "ipython",
    "version": 3
   },
   "file_extension": ".py",
   "mimetype": "text/x-python",
   "name": "python",
   "nbconvert_exporter": "python",
   "pygments_lexer": "ipython3",
   "version": "3.8.17"
  }
 },
 "nbformat": 4,
 "nbformat_minor": 5
}
