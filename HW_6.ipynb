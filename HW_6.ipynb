{
 "cells": [
  {
   "cell_type": "markdown",
   "id": "42768f8e",
   "metadata": {},
   "source": [
    "# 作業六\n",
    "\n",
    "## 題目說明\n",
    "\n",
    "請編寫程式，讓使用者可以任意輸入兩個名字，例如 `John` 與 `Mary`，來更換下列句子中的名字:\n",
    "\n",
    "`'For Tommy and Gina who never backed down.'`\n",
    "\n",
    "亦即將 Tommy 與 Gina 更換為 John 與 Mary。而後將更換後的句子 (含句點) 重複 3 次後輸出。注意句子與句子之中要有一空格，但最後結尾不需有空格。\n",
    "\n",
    "輸出成果例如：\n",
    "\n",
    "`For John and Mary who never backed down. For John and Mary who never backed down. For John and Mary who never backed down.`\n",
    "\n",
    "## 程式步驟\n",
    "\n",
    "1. 使用 `input()`，分別輸入兩個英文名字，存於兩個變數中。 \n",
    "2. 使用字串的方法 (method), 更換句子中的名字。\n",
    "3. 將更換後的句子(含句點) 重複 3 次輸出。注意句子與句子之中要有一空格，但最後結尾不需有空格。"
   ]
  }
 ],
 "metadata": {
  "kernelspec": {
   "display_name": "Python 3 (ipykernel)",
   "language": "python",
   "name": "python3"
  },
  "language_info": {
   "codemirror_mode": {
    "name": "ipython",
    "version": 3
   },
   "file_extension": ".py",
   "mimetype": "text/x-python",
   "name": "python",
   "nbconvert_exporter": "python",
   "pygments_lexer": "ipython3",
   "version": "3.8.17"
  }
 },
 "nbformat": 4,
 "nbformat_minor": 5
}
