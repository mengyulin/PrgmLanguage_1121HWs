{
 "cells": [
  {
   "cell_type": "markdown",
   "id": "ea1bc13d",
   "metadata": {},
   "source": [
    "# 作業 16\n",
    "\n",
    "## 題目說明\n",
    "\n",
    "依下列題意進行作答，依輸入值計算一組數據的平均值與標準偏差。\n",
    "\n",
    "## 設計說明\n",
    "\n",
    "先讓使用者輸入一正整數，代表輸入資料之數量。若數量小於 2 則輸出 `At least 2 values must be entered.` 並結束程式。 若數量大於或等於 2，則使用 for 迴圈依次讀入數據，並計算出該組資料之平均值與標準偏差。\n",
    "\n",
    "### 數學方程式\n",
    "\n",
    "設 $N$ 為資料數量，$x_i$ 為第 $i$ 筆數據，則平均值 $\\bar{x}$ 與標準偏差 $s$ 分別為\n",
    "\n",
    "$$\n",
    "\\bar{x} = \\frac{1}{N}\\sum_{i=1}^N x_i,\\quad s = \\sqrt{\\frac{N\\sum_{i-1}^N x_i^2 - (\\sum_{i=1}^N x_i)^2}{N(N-1)}}\n",
    "$$\n",
    "\n",
    "## 輸入輸出\n",
    "\n",
    "### 輸入說明\n",
    "\n",
    "一個正整數代表資料數量，接著依序輸入此資料之數據。 \n",
    "\n",
    "### 輸出說明\n",
    "\n",
    "若資料數量小於 2，輸出 `At least 2 values must be entered.`。\n",
    "\n",
    "若資料數量大於或等於 2，則輸出平均值與標準偏差。小數位均為三位。\n",
    "\n",
    "### 範例輸入之一\n",
    "    1\n",
    "    \n",
    "### 範例輸出之一\n",
    "    At least 2 values must be entered.\n",
    "\n",
    "### 範例輸入之二\n",
    "    3 \n",
    "    3 \n",
    "    4 \n",
    "    5\n",
    "\n",
    "### 範例輸出之二\n",
    "    The mean of this data set is: 4.000\n",
    "    The standard deviation is: 1.000"
   ]
  },
  {
   "cell_type": "markdown",
   "id": "f5f0bd83",
   "metadata": {},
   "source": [
    "$$\n",
    "\\bar{x} = \\frac{1}{N}\\sum_{i=1}^N x_i,\\quad s = \\sqrt{\\frac{N\\sum_{i-1}^N x_i^2 - (\\sum_{i=1}^N x_i)^2}{N(N-1)}}\n",
    "$$"
   ]
  },
  {
   "cell_type": "code",
   "execution_count": 2,
   "id": "b83487a6",
   "metadata": {},
   "outputs": [
    {
     "name": "stdout",
     "output_type": "stream",
     "text": [
      "Input the number of data: 5\n",
      "Input a data: 1\n",
      "Input a data: 2\n",
      "Input a data: 3\n",
      "Input a data: 4\n",
      "Input a data: 5\n",
      "The mean of this data set is: 3.000\n",
      "The standard deviation is: 1.581\n"
     ]
    }
   ],
   "source": [
    "n = int(input(\"Input the number of data: \"))\n",
    "\n",
    "sum_x = 0\n",
    "sum_x2 = 0\n",
    "\n",
    "if n < 2:\n",
    "    print(\"At least 2 values must be entered.\")\n",
    "else:\n",
    "    for i in range(n):\n",
    "        x = float(input(\"Input a data: \"))\n",
    "        sum_x = sum_x + x\n",
    "        sum_x2 += x**2\n",
    "\n",
    "    x_bar = sum_x / n\n",
    "    std_dev = ((n * sum_x2 - sum_x**2)/(n*(n-1)))**0.5\n",
    "\n",
    "    print(f\"The mean of this data set is: {x_bar:.3f}\")\n",
    "    print(f\"The standard deviation is: {std_dev:.3f}\")"
   ]
  },
  {
   "cell_type": "code",
   "execution_count": 3,
   "id": "637eb5c9",
   "metadata": {},
   "outputs": [
    {
     "name": "stdout",
     "output_type": "stream",
     "text": [
      "Beginning age: 20\n",
      "End age: 22\n",
      "Sam\n",
      "Mary\n",
      "Tom\n"
     ]
    }
   ],
   "source": [
    "members = (('Jam', 16), ('Sam', 21), ('Mark', 17), ('Ken', 24), ('Ben', 18),\\\n",
    "('Mary', 20), ('Ted', 19), ('Tom', 22), ('John', 23), ('Kevin', 25))\n",
    "\n",
    "age_begin = int(input(\"Beginning age: \"))\n",
    "age_end = int(input(\"End age: \"))\n",
    "\n",
    "for (name, age) in members:\n",
    "    if age >= age_begin and age <= age_end:\n",
    "        print(name)\n"
   ]
  },
  {
   "cell_type": "code",
   "execution_count": 5,
   "id": "74f7dc9d",
   "metadata": {},
   "outputs": [
    {
     "name": "stdout",
     "output_type": "stream",
     "text": [
      "Beginning age: 20\n",
      "End age: 22\n",
      "Sam\n",
      "Mary\n",
      "Tom\n"
     ]
    }
   ],
   "source": [
    "def do_listNames(members, age_begin, age_end):\n",
    "    listNames = ()\n",
    "    \n",
    "    for (name, age) in members:\n",
    "        if age >= age_begin and age <= age_end:\n",
    "#            listNames = listNames + (name,)\n",
    "            listNames += (name,)\n",
    "    \n",
    "    return listNames\n",
    "\n",
    "members = (('Jam', 16), ('Sam', 21), ('Mark', 17), ('Ken', 24), ('Ben', 18),\\\n",
    "('Mary', 20), ('Ted', 19), ('Tom', 22), ('John', 23), ('Kevin', 25))\n",
    "\n",
    "age_begin = int(input(\"Beginning age: \"))\n",
    "age_end = int(input(\"End age: \"))\n",
    "\n",
    "names = do_listNames(members, age_begin, age_end)\n",
    "#print(names)\n",
    "for name in names:\n",
    "    print(name)"
   ]
  },
  {
   "cell_type": "code",
   "execution_count": null,
   "id": "cb3c82b7",
   "metadata": {},
   "outputs": [],
   "source": []
  }
 ],
 "metadata": {
  "kernelspec": {
   "display_name": "Python 3 (ipykernel)",
   "language": "python",
   "name": "python3"
  },
  "language_info": {
   "codemirror_mode": {
    "name": "ipython",
    "version": 3
   },
   "file_extension": ".py",
   "mimetype": "text/x-python",
   "name": "python",
   "nbconvert_exporter": "python",
   "pygments_lexer": "ipython3",
   "version": "3.8.17"
  }
 },
 "nbformat": 4,
 "nbformat_minor": 5
}
