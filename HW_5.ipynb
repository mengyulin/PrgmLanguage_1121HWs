{
 "cells": [
  {
   "cell_type": "markdown",
   "id": "4226694b",
   "metadata": {},
   "source": [
    "# 作業五\n",
    "\n",
    "## 題目說明\n",
    "\n",
    "依下述步驟，初始化一個變數為 `'Eat Work Play Sleep repeat'`，使用本章所提的方法 (method)， 操作此變數以取得新的字串物件 `'working playing'`。\n",
    "\n",
    "## 步驟\n",
    "\n",
    "1. 初始化變數 `string0` 為 `'Eat Work Play Sleep repeat'`。\n",
    "2. 將 `string0` 中字串轉為小寫，存於 `string0_lower`。\n",
    "3. 找出 `string0_lower` 中 `'work'` 的起始索引值，存於變數 `start_index`。\n",
    "4. 由 `start_index` 與 `'work'` 的長度 (使用 `len()`)，計算出終止索引值 `stop_index`。 \n",
    "5. 使用字串切片，以 `start_index` 與 `stop_index` 切出 `'work'`, 存於變數 `string1`。 \n",
    "6. 重複步驟 3 至 5, 使用字串切片切出 `'play'` 存於變數 `string2`。\n",
    "7. 使用字串加法，結合 `string1`, `string2` 以及字串 `'ing'`, 產生新的字串物件 `'working playing'`。注意中間有一空格。\n",
    "8. 使用 `print()` 輸出結果。"
   ]
  }
 ],
 "metadata": {
  "kernelspec": {
   "display_name": "Python 3 (ipykernel)",
   "language": "python",
   "name": "python3"
  },
  "language_info": {
   "codemirror_mode": {
    "name": "ipython",
    "version": 3
   },
   "file_extension": ".py",
   "mimetype": "text/x-python",
   "name": "python",
   "nbconvert_exporter": "python",
   "pygments_lexer": "ipython3",
   "version": "3.8.17"
  }
 },
 "nbformat": 4,
 "nbformat_minor": 5
}
