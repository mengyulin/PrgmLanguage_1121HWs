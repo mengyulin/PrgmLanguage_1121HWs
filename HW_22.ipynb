{
 "cells": [
  {
   "cell_type": "markdown",
   "id": "a1d37822",
   "metadata": {},
   "source": [
    "# 作業 22\n",
    "\n",
    "## 1. 題目說明\n",
    "依下列題意進行作答，撰寫一函式，輸入參數為一字典。函式傳回另一新的字典，其鍵與值分別為原字典之值與鍵。原字典保持原狀不更動。\n",
    "\n",
    "## 2. 設計說明\n",
    "### 函式說明\n",
    "撰寫一名為 invert_dict 的函式，有一個參數 input_dict, 其型別為字典，而其值都是不重複的不可變物件。\n",
    "\n",
    "在函式內會建立並傳回一個新的字典 new_dict, 使用 for 迴圈走訪的方式，將 new_dict 的鍵設為 input_dict 的值, new_dict 的值設為 input_dict 的鍵。 input_dict 的內容需維持不更動。\n",
    "\n",
    "### 主程式說明\n",
    "建立一字典 dict1, 其內容為\n",
    "\n",
    "    dict1 = {'key 1': 'value 1', 'key 2': 'value 2', 'key 3': 'value 3'}\n",
    "\n",
    "呼叫 invert_dict, 傳回新的字典 dict2, 再將 dict1 與 dict2 分別輸出。\n",
    "\n",
    "## 3. 輸入輸出\n",
    "### 輸入說明\n",
    "無\n",
    "\n",
    "### 輸出說明\n",
    "使用 print(dict1) 與 print(dict2) 輸出兩個字典。\n",
    "\n",
    "### 範例輸入 \n",
    "無\n",
    "\n",
    "### 範例輸出\n",
    "\n",
    "    {'key 1': 'value 1', 'key 2': 'value 2', 'key 3': 'value 3'} \n",
    "    {'value 1': 'key 1', 'value 2': 'key 2', 'value 3': 'key 3'}"
   ]
  },
  {
   "cell_type": "code",
   "execution_count": null,
   "id": "69996645",
   "metadata": {},
   "outputs": [],
   "source": []
  }
 ],
 "metadata": {
  "kernelspec": {
   "display_name": "Python 3 (ipykernel)",
   "language": "python",
   "name": "python3"
  },
  "language_info": {
   "codemirror_mode": {
    "name": "ipython",
    "version": 3
   },
   "file_extension": ".py",
   "mimetype": "text/x-python",
   "name": "python",
   "nbconvert_exporter": "python",
   "pygments_lexer": "ipython3",
   "version": "3.11.0"
  }
 },
 "nbformat": 4,
 "nbformat_minor": 5
}
