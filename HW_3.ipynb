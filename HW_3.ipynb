{
 "cells": [
  {
   "cell_type": "markdown",
   "id": "f04f18a8",
   "metadata": {},
   "source": [
    "# 作業三\n",
    "\n",
    "## 題目\n",
    "\n",
    "參見 Ch06 之說明，編寫一個 Python 程式，其功能是將分鐘數轉換為幾小時幾分鐘。依下列步驟修改 Ch06 之解法一 (6-4 節):\n",
    "\n",
    "1. 使用 `input()` 輸入總分鐘數，指派給變數 `minutes_to_convert`。記得要轉換為 `int` 型別。\n",
    "2. 將分鐘數的計算改為使用餘數。例如 123 / 60 的餘數為 3，所以運算式為 `123 % 60`。"
   ]
  },
  {
   "cell_type": "markdown",
   "id": "74537c1b",
   "metadata": {},
   "source": [
    "## 執行範例（請自行測試）\n",
    "\n",
    "### 輸入值"
   ]
  },
  {
   "cell_type": "code",
   "execution_count": null,
   "id": "862084e8",
   "metadata": {},
   "outputs": [],
   "source": [
    "123"
   ]
  },
  {
   "cell_type": "markdown",
   "id": "fa8906f2",
   "metadata": {},
   "source": [
    "### 輸出值"
   ]
  },
  {
   "cell_type": "code",
   "execution_count": null,
   "id": "89052074",
   "metadata": {},
   "outputs": [],
   "source": [
    "Hours\n",
    "2\n",
    "Minutes\n",
    "3"
   ]
  }
 ],
 "metadata": {
  "kernelspec": {
   "display_name": "Python 3 (ipykernel)",
   "language": "python",
   "name": "python3"
  },
  "language_info": {
   "codemirror_mode": {
    "name": "ipython",
    "version": 3
   },
   "file_extension": ".py",
   "mimetype": "text/x-python",
   "name": "python",
   "nbconvert_exporter": "python",
   "pygments_lexer": "ipython3",
   "version": "3.11.0"
  }
 },
 "nbformat": 4,
 "nbformat_minor": 5
}
