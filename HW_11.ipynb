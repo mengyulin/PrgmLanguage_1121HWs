{
 "cells": [
  {
   "cell_type": "markdown",
   "id": "84fe9546",
   "metadata": {},
   "source": [
    "# 作業 11\n",
    "\n",
    "## 題目說明\n",
    "\n",
    "請撰寫一個程式，依次分別輸出以下各小題的結果。各小題答案的輸出格式如以下範例，其中 `X` 為輸出的數字或字元。浮點數之小數位由程式自動產生即可。\n",
    "\n",
    "    Problem (a), solution: X.XX\n",
    "    Problem (b), solution: X\n",
    "    \n",
    "## 小題\n",
    "\n",
    "* (a) 產生一個 0 到 1 之間的亂數。\n",
    "* (b) 從字串 `Significant` 中隨機抽取 3 個字元。\n",
    "* (c) 產生一個 1 到 6 之間（包含 6）的整數亂數。\n",
    "* (d) 從 1 到 10 之間（包含 10）的偶數隨機挑選一個數。\n",
    "* (e) 產生一個介於 -1 到 1 之間的浮點數亂數。"
   ]
  }
 ],
 "metadata": {
  "kernelspec": {
   "display_name": "Python 3 (ipykernel)",
   "language": "python",
   "name": "python3"
  },
  "language_info": {
   "codemirror_mode": {
    "name": "ipython",
    "version": 3
   },
   "file_extension": ".py",
   "mimetype": "text/x-python",
   "name": "python",
   "nbconvert_exporter": "python",
   "pygments_lexer": "ipython3",
   "version": "3.11.0"
  }
 },
 "nbformat": 4,
 "nbformat_minor": 5
}
