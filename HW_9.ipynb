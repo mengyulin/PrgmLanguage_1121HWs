{
 "cells": [
  {
   "cell_type": "markdown",
   "id": "8547adb7",
   "metadata": {},
   "source": [
    "# 作業 9\n",
    "\n",
    "## 題目說明\n",
    "\n",
    "使用 Spyder 的除錯功能，找出附檔程式碼的錯誤。\n",
    "\n",
    "此程式碼的功能是拆解兩個姓名並重組，與課本 Ch 11 類似，但拆解方式不同，見下圖所示。 \n",
    "\n",
    "此外，本程式修改為輸入之姓名固定為 `Aqua Man` 與 `Cat Woman` 並寫入程式中，並無使用 `input()` 輸入。\n",
    "\n",
    "![程式說明](./Ch12Exe.jpg)"
   ]
  },
  {
   "cell_type": "markdown",
   "id": "dcb2497b",
   "metadata": {},
   "source": [
    "## 附檔程式碼 HW_9.py\n",
    "\n",
    "ㄑㄧㄥ"
   ]
  },
  {
   "cell_type": "code",
   "execution_count": null,
   "id": "42de36a7",
   "metadata": {},
   "outputs": [],
   "source": [
    "name1 = \"Aqua Man\"\n",
    "name2 = \"Cat Woman\"\n",
    "space = name1.find(\"\")                             \n",
    "name1_first = name1[0:space]               \n",
    "name1_last = name1[space+1:len(name1)]     \n",
    "space = name2.find(\"\")                                            \n",
    "name2_first = name2[0:space]               \n",
    "name2_last = name2[space:len(name2)]                 \n",
    "len_name1_first = len(name1_first)                \n",
    "len_name2_first = len(name2_first)                \n",
    "len_name1_last = len(name1_last)                  \n",
    "len_name2_last = len(name2_last)                  \n",
    "index_name1_first = int(len_name1_first/2)                \n",
    "index_name2_first = int(len_name2_first/2)                \n",
    "index_name1_last = int(len_name1_last/2)                  \n",
    "index_name2_last = int(len_name2_last/2)                  \n",
    "lefthalf_name1_first = name1_first[1:index_name1_first]                            \n",
    "righthalf_name1_first = name1_first[index_name1_first:len_name1_first]\n",
    "lefthalf_name2_first = name2_first[1:index_name2_first]              \n",
    "righthalf_name2_first = name2_first[index_name2_first:len_name2_first]\n",
    "lefthalf_name1_last = name1_last[1:index_name1_last]              \n",
    "righthalf_name1_last = name1_last[index_name1_last:len_name1_last]\n",
    "lefthalf_name2_last = name2_last[1:index_name2_last]               \n",
    "righthalf_name2_last = name2_last[index_name2_last:len_name2_last]\n",
    "newname1_first = lefthalf_name1_first.capitalize() + righthalf_name2_last.lower()\n",
    "newname1_last = lefthalf_name1_last.capitalize() + righthalf_name2_first.lower()\n",
    "newname2_first = lefthalf_name2_first.capitalize() + righthalf_name1_last.lower()\n",
    "newname2_last = lefthalf_name2_last.capitalize() + righthalf_name1_first.lower()\n",
    "print(newname1_first, newname1_last)       \n",
    "print(newname2_first, newname2_last) "
   ]
  }
 ],
 "metadata": {
  "kernelspec": {
   "display_name": "Python 3 (ipykernel)",
   "language": "python",
   "name": "python3"
  },
  "language_info": {
   "codemirror_mode": {
    "name": "ipython",
    "version": 3
   },
   "file_extension": ".py",
   "mimetype": "text/x-python",
   "name": "python",
   "nbconvert_exporter": "python",
   "pygments_lexer": "ipython3",
   "version": "3.8.17"
  }
 },
 "nbformat": 4,
 "nbformat_minor": 5
}
