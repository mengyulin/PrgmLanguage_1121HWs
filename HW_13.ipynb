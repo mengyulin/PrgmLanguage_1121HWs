{
 "cells": [
  {
   "cell_type": "markdown",
   "id": "9c29e5e5",
   "metadata": {},
   "source": [
    "# 作業 13\n",
    "\n",
    "## 題目說明\n",
    "\n",
    "請依下述程式架構進行作答，先判斷輸入之整數是否大於 0, 若大於 0 再判斷是否為 3 或 5 的倍數，使輸出值符合題意要求。\n",
    "\n",
    "## 程式設計\n",
    "\n",
    "讓使用者輸入一個**整數**。使用兩層的巢狀 if-elif-else 架構，第一層 if 先判斷該整數大於、等於或小於 0。若小於 0 顯示 `_ is negative.` 並結束程式 (`_` 代表該整數); 若等於 0 顯示 `_ is zero.` 並結束程式; 若大於 0 則顯示 `_ is positive.` 並進入第二層 if。\n",
    "\n",
    "第二層 if 則判斷該整數是否為 3 或 5 的倍數，若是則顯示 `_ is a multiple of 3.` 或 `_ is a multiple of 5.`; 若同時為 3 與 5 的倍 數，顯示 `_ is a multiple of 3 and 5.`; 若皆不屬於 3 或 5 的倍數，顯示 `_ is not a multiple of 3 or 5.`。\n",
    "\n",
    "程式之架構如下所述：\n",
    "   \n",
    "    第一層 if 之輸出可能為 (_ 代表該數值)：\n",
    "        _ is negative.\n",
    "        _ is zero.\n",
    "        _ is positive.\n",
    "    第二層 if 之輸出可能為：\n",
    "        _ is a multiple of 3 and 5.\n",
    "        _ is a multiple of 3.\n",
    "        _ is a multiple of 5.\n",
    "        _ is not a multiple of 3 or 5.\n",
    "        \n",
    "\n",
    "## 範例成果        \n",
    "        \n",
    "### 範例輸入1\n",
    "    -5\n",
    "### 範例輸出1\n",
    "    -5 is negative.\n",
    "### 範例輸入2 \n",
    "    0\n",
    "### 範例輸出2 \n",
    "    0 is zero.\n",
    "### 範例輸入3 \n",
    "    55\n",
    "### 範例輸出3\n",
    "    55 is positive.\n",
    "    55 is a multiple of 5.\n",
    "### 範例輸入4 \n",
    "    36\n",
    "### 範例輸出4\n",
    "    36 is positive.\n",
    "    36 is a multiple of 3.\n",
    "### 範例輸入5 \n",
    "    15\n",
    "### 範例輸出5\n",
    "    15 is positive.\n",
    "    15 is a multiple of 3 and 5.\n",
    "### 範例輸入6 \n",
    "    92\n",
    "### 範例輸出6\n",
    "    92 is positive.\n",
    "    92 is not a multiple of 3 or 5."
   ]
  }
 ],
 "metadata": {
  "kernelspec": {
   "display_name": "Python 3 (ipykernel)",
   "language": "python",
   "name": "python3"
  },
  "language_info": {
   "codemirror_mode": {
    "name": "ipython",
    "version": 3
   },
   "file_extension": ".py",
   "mimetype": "text/x-python",
   "name": "python",
   "nbconvert_exporter": "python",
   "pygments_lexer": "ipython3",
   "version": "3.8.17"
  }
 },
 "nbformat": 4,
 "nbformat_minor": 5
}
