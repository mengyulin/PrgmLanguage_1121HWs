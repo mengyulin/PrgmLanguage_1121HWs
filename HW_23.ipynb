{
 "cells": [
  {
   "cell_type": "markdown",
   "id": "dc222b42",
   "metadata": {},
   "source": [
    "# 作業 23\n",
    "\n",
    "## 題目說明\n",
    "在 `Rectangle` 類別裡邊寫兩個方法，其名稱分別為 `get_area` 和 `get_perimeter`，以計算正方形之面積與邊長。在 `Rectangle` 建立後呼叫這兩個方法，並在畫面顯示其結果，藉此來確認運作是否正確。\n",
    "\n",
    "`Rectangle` 類別原有的程式碼如下："
   ]
  },
  {
   "cell_type": "code",
   "execution_count": null,
   "id": "2fb4c889",
   "metadata": {},
   "outputs": [],
   "source": [
    "class Rectangle:\n",
    "    \"\"\"\n",
    "    a rectangle object with a length and a width\n",
    "    \"\"\"\n",
    "    def __init__(self, length, width):\n",
    "        self.length = length\n",
    "        self.width = width\n",
    "    def set_length(self, length):\n",
    "        self.length = length\n",
    "    def set_width(self, width):\n",
    "        self.width = width"
   ]
  },
  {
   "cell_type": "markdown",
   "id": "9427b1db",
   "metadata": {},
   "source": [
    "\n",
    "## 設計說明\n",
    "\n",
    "### 類別說明\n",
    "\n",
    "在 `Rectangle` 類別裡邊寫兩個方法，其名稱分別為 `get_area` 和 `get_perimeter`，以計算正方形之面積與邊長。這兩個方法的實作邏輯如下：\n",
    "\n",
    "* `get_area` 會透過公式：$\\mathrm{length}*\\mathrm{width}$ 計算並傳回此長方形的面積。\n",
    "* `get_perimeter` 會透過公式：$2*\\mathrm{length}+2*\\mathrm{width}$ 計算並傳回此長方形的周長。\n",
    "\n",
    "### 主程式說明\n",
    "\n",
    "主程式須包含下列步驟：\n",
    "\n",
    "1. 提示使用者輸入長方形的長與寬。\n",
    "2. 呼叫 Rectangle，輸入長與寬，並分別列印出其面積與邊長。\n",
    "\n",
    "### 範例輸入\n",
    "輸入值為長與寬，例如長為 3, 寬為 2:\n",
    "\n",
    "    3\n",
    "    2\n",
    "\n",
    "### 範例輸出\n",
    "輸出值為面積於邊長：\n",
    "\n",
    "    Area of the rectangle =  6.0\n",
    "    Perimeter of the rectangle =  10.0"
   ]
  }
 ],
 "metadata": {
  "kernelspec": {
   "display_name": "Python 3 (ipykernel)",
   "language": "python",
   "name": "python3"
  },
  "language_info": {
   "codemirror_mode": {
    "name": "ipython",
    "version": 3
   },
   "file_extension": ".py",
   "mimetype": "text/x-python",
   "name": "python",
   "nbconvert_exporter": "python",
   "pygments_lexer": "ipython3",
   "version": "3.11.0"
  }
 },
 "nbformat": 4,
 "nbformat_minor": 5
}
