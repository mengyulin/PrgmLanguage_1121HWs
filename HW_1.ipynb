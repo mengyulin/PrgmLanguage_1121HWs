{
 "cells": [
  {
   "cell_type": "markdown",
   "id": "4a5fcca6",
   "metadata": {},
   "source": [
    "# 作業說明\n",
    "\n",
    "* 每一題的答案均為一獨立的程式碼，請使用 Spyder 撰寫。\n",
    "* 程式檔名可為作業編號。例如作業 1-1 的檔名可為 HW1_1.py。\n",
    "* 繳交方式為將程式碼上傳至 ilearning 作業附檔。\n",
    "\n",
    "# 作業 1-1\n",
    "\n",
    "下面是一個計算圓面積的程式，其中 `pi` 為圓周率，`r` 為半徑，`area` 為圓面積。試理解這個程式的每一行，並為它們加上註解。"
   ]
  },
  {
   "cell_type": "code",
   "execution_count": null,
   "id": "345cb900",
   "metadata": {},
   "outputs": [],
   "source": [
    "pi = 3.14\n",
    "r = 2\n",
    "area = pi * r * r\n",
    "print(area)"
   ]
  },
  {
   "cell_type": "markdown",
   "id": "ec7ee256",
   "metadata": {},
   "source": [
    "# 作業 1-2\n",
    "\n",
    "下面的敘述執行時會出現錯誤。請更正它，使程式碼可以正確印出 `3 < 5` 字串。"
   ]
  },
  {
   "cell_type": "code",
   "execution_count": null,
   "id": "a5314d57",
   "metadata": {},
   "outputs": [],
   "source": [
    "if 3 < 5:\n",
    "print('3 < 5')"
   ]
  },
  {
   "cell_type": "markdown",
   "id": "f76a98ee",
   "metadata": {},
   "source": [
    "# 作業 1-3\n",
    "\n",
    "試計算 1 加到 15 的總和。這個計算稍長，一共有 15 項。請利用分行符號將它們分隔成 3 行來撰寫。"
   ]
  }
 ],
 "metadata": {
  "kernelspec": {
   "display_name": "Python 3 (ipykernel)",
   "language": "python",
   "name": "python3"
  },
  "language_info": {
   "codemirror_mode": {
    "name": "ipython",
    "version": 3
   },
   "file_extension": ".py",
   "mimetype": "text/x-python",
   "name": "python",
   "nbconvert_exporter": "python",
   "pygments_lexer": "ipython3",
   "version": "3.8.17"
  }
 },
 "nbformat": 4,
 "nbformat_minor": 5
}
